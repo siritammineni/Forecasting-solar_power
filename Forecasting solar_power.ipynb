{
 "cells": [
  {
   "cell_type": "markdown",
   "id": "953b138c",
   "metadata": {},
   "source": [
    "# Problem Statement \n",
    "#            - FORECASTING TO OPTIMIZE SOLAR POWER GENERATION\n",
    "## A solar power generation company wants to optimize solar power production and needs the prediction model to predict ‘Clearsky DHI’, ‘Clearsky DNI’, ‘Clearsky GHI’. The data is ten years at an interval of every 30 mins with the following data points:\n"
   ]
  },
  {
   "cell_type": "markdown",
   "id": "dbc9b657",
   "metadata": {},
   "source": [
    "#### 0)   Year                    :    Years from 2009 to 2018  \n",
    "#### 1)   Month                 :    ranges from 1 to 12 months from the given list of years \n",
    "#### 2)   Day                     :    31 days from the 12 months of each year  \n",
    "#### 3)   Hour                   :    24 hours from every day of month in given year \n",
    "#### 4)   Minute                :    the values are recorded for every 30 minutes of a hour\n",
    "#### 5)   Clearsky DHI     :    The amount of radiation from the sky \n",
    "#### 6)   Clearsky DNI     :    The amount of radiation reflected from the particles in the atmosphere  \n",
    "#### 7)   Clearsky GHI     :    The amount radiation reflected from the parallen surface of the ground  \n",
    "#### 8)   Cloud Type        :    The different types of clouds ranging from 0 to 9\n",
    "#### 9)   Dew Point          :    The temperature the air needs to be cooled in order to achieve a relative Humidity\n",
    "####  10)  Temperature   :     The degree of Hotness in the atmosphere\n",
    "####  11)  Pressure         :  The force exerted on a surface by the air above it as gravity pulls it to Earth  \n",
    "####  12)  Relative Humidity  :The amount of water present in the atmosphere\n",
    "####  13)  Solar Zenith Angle: The angle between the Sun's rays and the vertical direction\n",
    "####  14)  Precipitable Water: The depth of water column in the atmosphere\n",
    "####  15)  Wind Direction  :   The direction of flow of wind\n",
    "####  16)  Wind Speed   :      The rate at which the wind flows\n",
    "####  17)  Fill Flag    :          A flag value "
   ]
  },
  {
   "cell_type": "code",
   "execution_count": 1,
   "id": "0774ee4d",
   "metadata": {},
   "outputs": [],
   "source": [
    "import pandas as pd\n",
    "import numpy as np\n",
    "import seaborn as sns\n",
    "import matplotlib.pyplot as plt"
   ]
  },
  {
   "cell_type": "code",
   "execution_count": 2,
   "id": "1cae7a1e",
   "metadata": {},
   "outputs": [],
   "source": [
    "#loading dataset\n",
    "df_train = pd.read_csv(\"train.csv\")"
   ]
  },
  {
   "cell_type": "markdown",
   "id": "fd37269a",
   "metadata": {},
   "source": [
    "## Data Preprocessing"
   ]
  },
  {
   "cell_type": "code",
   "execution_count": 3,
   "id": "1a88f614",
   "metadata": {
    "scrolled": false
   },
   "outputs": [
    {
     "data": {
      "text/html": [
       "<div>\n",
       "<style scoped>\n",
       "    .dataframe tbody tr th:only-of-type {\n",
       "        vertical-align: middle;\n",
       "    }\n",
       "\n",
       "    .dataframe tbody tr th {\n",
       "        vertical-align: top;\n",
       "    }\n",
       "\n",
       "    .dataframe thead th {\n",
       "        text-align: right;\n",
       "    }\n",
       "</style>\n",
       "<table border=\"1\" class=\"dataframe\">\n",
       "  <thead>\n",
       "    <tr style=\"text-align: right;\">\n",
       "      <th></th>\n",
       "      <th>Year</th>\n",
       "      <th>Month</th>\n",
       "      <th>Day</th>\n",
       "      <th>Hour</th>\n",
       "      <th>Minute</th>\n",
       "      <th>Clearsky DHI</th>\n",
       "      <th>Clearsky DNI</th>\n",
       "      <th>Clearsky GHI</th>\n",
       "      <th>Cloud Type</th>\n",
       "      <th>Dew Point</th>\n",
       "      <th>Temperature</th>\n",
       "      <th>Pressure</th>\n",
       "      <th>Relative Humidity</th>\n",
       "      <th>Solar Zenith Angle</th>\n",
       "      <th>Precipitable Water</th>\n",
       "      <th>Wind Direction</th>\n",
       "      <th>Wind Speed</th>\n",
       "      <th>Fill Flag</th>\n",
       "    </tr>\n",
       "  </thead>\n",
       "  <tbody>\n",
       "    <tr>\n",
       "      <th>0</th>\n",
       "      <td>2009</td>\n",
       "      <td>1</td>\n",
       "      <td>1</td>\n",
       "      <td>0</td>\n",
       "      <td>0</td>\n",
       "      <td>0</td>\n",
       "      <td>0</td>\n",
       "      <td>0</td>\n",
       "      <td>0</td>\n",
       "      <td>0.0</td>\n",
       "      <td>5.0</td>\n",
       "      <td>1010</td>\n",
       "      <td>75.34</td>\n",
       "      <td>106.15</td>\n",
       "      <td>0.499</td>\n",
       "      <td>346.1</td>\n",
       "      <td>3.1</td>\n",
       "      <td>0</td>\n",
       "    </tr>\n",
       "    <tr>\n",
       "      <th>1</th>\n",
       "      <td>2009</td>\n",
       "      <td>1</td>\n",
       "      <td>1</td>\n",
       "      <td>0</td>\n",
       "      <td>30</td>\n",
       "      <td>0</td>\n",
       "      <td>0</td>\n",
       "      <td>0</td>\n",
       "      <td>0</td>\n",
       "      <td>1.0</td>\n",
       "      <td>5.0</td>\n",
       "      <td>1010</td>\n",
       "      <td>80.81</td>\n",
       "      <td>112.28</td>\n",
       "      <td>0.490</td>\n",
       "      <td>346.1</td>\n",
       "      <td>3.1</td>\n",
       "      <td>0</td>\n",
       "    </tr>\n",
       "    <tr>\n",
       "      <th>2</th>\n",
       "      <td>2009</td>\n",
       "      <td>1</td>\n",
       "      <td>1</td>\n",
       "      <td>1</td>\n",
       "      <td>0</td>\n",
       "      <td>0</td>\n",
       "      <td>0</td>\n",
       "      <td>0</td>\n",
       "      <td>4</td>\n",
       "      <td>0.0</td>\n",
       "      <td>5.0</td>\n",
       "      <td>1010</td>\n",
       "      <td>78.27</td>\n",
       "      <td>118.50</td>\n",
       "      <td>0.482</td>\n",
       "      <td>347.9</td>\n",
       "      <td>3.2</td>\n",
       "      <td>0</td>\n",
       "    </tr>\n",
       "    <tr>\n",
       "      <th>3</th>\n",
       "      <td>2009</td>\n",
       "      <td>1</td>\n",
       "      <td>1</td>\n",
       "      <td>1</td>\n",
       "      <td>30</td>\n",
       "      <td>0</td>\n",
       "      <td>0</td>\n",
       "      <td>0</td>\n",
       "      <td>4</td>\n",
       "      <td>0.0</td>\n",
       "      <td>4.0</td>\n",
       "      <td>1010</td>\n",
       "      <td>78.27</td>\n",
       "      <td>124.78</td>\n",
       "      <td>0.478</td>\n",
       "      <td>347.9</td>\n",
       "      <td>3.1</td>\n",
       "      <td>0</td>\n",
       "    </tr>\n",
       "    <tr>\n",
       "      <th>4</th>\n",
       "      <td>2009</td>\n",
       "      <td>1</td>\n",
       "      <td>1</td>\n",
       "      <td>2</td>\n",
       "      <td>0</td>\n",
       "      <td>0</td>\n",
       "      <td>0</td>\n",
       "      <td>0</td>\n",
       "      <td>4</td>\n",
       "      <td>0.0</td>\n",
       "      <td>4.0</td>\n",
       "      <td>1010</td>\n",
       "      <td>76.45</td>\n",
       "      <td>131.12</td>\n",
       "      <td>0.475</td>\n",
       "      <td>350.0</td>\n",
       "      <td>3.0</td>\n",
       "      <td>0</td>\n",
       "    </tr>\n",
       "  </tbody>\n",
       "</table>\n",
       "</div>"
      ],
      "text/plain": [
       "   Year  Month  Day  Hour  Minute  Clearsky DHI  Clearsky DNI  Clearsky GHI  \\\n",
       "0  2009      1    1     0       0             0             0             0   \n",
       "1  2009      1    1     0      30             0             0             0   \n",
       "2  2009      1    1     1       0             0             0             0   \n",
       "3  2009      1    1     1      30             0             0             0   \n",
       "4  2009      1    1     2       0             0             0             0   \n",
       "\n",
       "   Cloud Type  Dew Point  Temperature  Pressure  Relative Humidity  \\\n",
       "0           0        0.0          5.0      1010              75.34   \n",
       "1           0        1.0          5.0      1010              80.81   \n",
       "2           4        0.0          5.0      1010              78.27   \n",
       "3           4        0.0          4.0      1010              78.27   \n",
       "4           4        0.0          4.0      1010              76.45   \n",
       "\n",
       "   Solar Zenith Angle  Precipitable Water  Wind Direction  Wind Speed  \\\n",
       "0              106.15               0.499           346.1         3.1   \n",
       "1              112.28               0.490           346.1         3.1   \n",
       "2              118.50               0.482           347.9         3.2   \n",
       "3              124.78               0.478           347.9         3.1   \n",
       "4              131.12               0.475           350.0         3.0   \n",
       "\n",
       "   Fill Flag  \n",
       "0          0  \n",
       "1          0  \n",
       "2          0  \n",
       "3          0  \n",
       "4          0  "
      ]
     },
     "execution_count": 3,
     "metadata": {},
     "output_type": "execute_result"
    }
   ],
   "source": [
    "df_train.head()"
   ]
  },
  {
   "cell_type": "code",
   "execution_count": 4,
   "id": "1348bb30",
   "metadata": {
    "scrolled": true
   },
   "outputs": [
    {
     "data": {
      "text/plain": [
       "Index(['Year', 'Month', 'Day', 'Hour', 'Minute', 'Clearsky DHI',\n",
       "       'Clearsky DNI', 'Clearsky GHI', 'Cloud Type', 'Dew Point',\n",
       "       'Temperature', 'Pressure', 'Relative Humidity', 'Solar Zenith Angle',\n",
       "       'Precipitable Water', 'Wind Direction', 'Wind Speed', 'Fill Flag'],\n",
       "      dtype='object')"
      ]
     },
     "execution_count": 4,
     "metadata": {},
     "output_type": "execute_result"
    }
   ],
   "source": [
    "# columns in the data\n",
    "df_train.columns"
   ]
  },
  {
   "cell_type": "code",
   "execution_count": 5,
   "id": "ecfbb1fe",
   "metadata": {
    "scrolled": true
   },
   "outputs": [
    {
     "name": "stdout",
     "output_type": "stream",
     "text": [
      "<class 'pandas.core.frame.DataFrame'>\n",
      "RangeIndex: 175296 entries, 0 to 175295\n",
      "Data columns (total 18 columns):\n",
      " #   Column              Non-Null Count   Dtype  \n",
      "---  ------              --------------   -----  \n",
      " 0   Year                175296 non-null  int64  \n",
      " 1   Month               175296 non-null  int64  \n",
      " 2   Day                 175296 non-null  int64  \n",
      " 3   Hour                175296 non-null  int64  \n",
      " 4   Minute              175296 non-null  int64  \n",
      " 5   Clearsky DHI        175296 non-null  int64  \n",
      " 6   Clearsky DNI        175296 non-null  int64  \n",
      " 7   Clearsky GHI        175296 non-null  int64  \n",
      " 8   Cloud Type          175296 non-null  int64  \n",
      " 9   Dew Point           175296 non-null  float64\n",
      " 10  Temperature         175296 non-null  float64\n",
      " 11  Pressure            175296 non-null  int64  \n",
      " 12  Relative Humidity   175296 non-null  float64\n",
      " 13  Solar Zenith Angle  175296 non-null  float64\n",
      " 14  Precipitable Water  175296 non-null  float64\n",
      " 15  Wind Direction      175296 non-null  float64\n",
      " 16  Wind Speed          175296 non-null  float64\n",
      " 17  Fill Flag           175296 non-null  int64  \n",
      "dtypes: float64(7), int64(11)\n",
      "memory usage: 24.1 MB\n"
     ]
    }
   ],
   "source": [
    "df_train.info()"
   ]
  },
  {
   "cell_type": "code",
   "execution_count": null,
   "id": "23cd76a7",
   "metadata": {},
   "outputs": [],
   "source": [
    "# From the above info we infer that all the columns are numerical values \n",
    "# There is no categorical values in the given data"
   ]
  },
  {
   "cell_type": "code",
   "execution_count": 6,
   "id": "46223385",
   "metadata": {},
   "outputs": [
    {
     "data": {
      "text/html": [
       "<div>\n",
       "<style scoped>\n",
       "    .dataframe tbody tr th:only-of-type {\n",
       "        vertical-align: middle;\n",
       "    }\n",
       "\n",
       "    .dataframe tbody tr th {\n",
       "        vertical-align: top;\n",
       "    }\n",
       "\n",
       "    .dataframe thead th {\n",
       "        text-align: right;\n",
       "    }\n",
       "</style>\n",
       "<table border=\"1\" class=\"dataframe\">\n",
       "  <thead>\n",
       "    <tr style=\"text-align: right;\">\n",
       "      <th></th>\n",
       "      <th>Year</th>\n",
       "      <th>Month</th>\n",
       "      <th>Day</th>\n",
       "      <th>Hour</th>\n",
       "      <th>Minute</th>\n",
       "      <th>Clearsky DHI</th>\n",
       "      <th>Clearsky DNI</th>\n",
       "      <th>Clearsky GHI</th>\n",
       "      <th>Cloud Type</th>\n",
       "      <th>Dew Point</th>\n",
       "      <th>Temperature</th>\n",
       "      <th>Pressure</th>\n",
       "      <th>Relative Humidity</th>\n",
       "      <th>Solar Zenith Angle</th>\n",
       "      <th>Precipitable Water</th>\n",
       "      <th>Wind Direction</th>\n",
       "      <th>Wind Speed</th>\n",
       "      <th>Fill Flag</th>\n",
       "    </tr>\n",
       "  </thead>\n",
       "  <tbody>\n",
       "    <tr>\n",
       "      <th>count</th>\n",
       "      <td>175296.000000</td>\n",
       "      <td>175296.000000</td>\n",
       "      <td>175296.000000</td>\n",
       "      <td>175296.000000</td>\n",
       "      <td>175296.000000</td>\n",
       "      <td>175296.000000</td>\n",
       "      <td>175296.000000</td>\n",
       "      <td>175296.000000</td>\n",
       "      <td>175296.000000</td>\n",
       "      <td>175296.000000</td>\n",
       "      <td>175296.000000</td>\n",
       "      <td>175296.000000</td>\n",
       "      <td>175296.000000</td>\n",
       "      <td>175296.000000</td>\n",
       "      <td>175296.000000</td>\n",
       "      <td>175296.000000</td>\n",
       "      <td>175296.000000</td>\n",
       "      <td>175296.000000</td>\n",
       "    </tr>\n",
       "    <tr>\n",
       "      <th>mean</th>\n",
       "      <td>2013.500274</td>\n",
       "      <td>6.523549</td>\n",
       "      <td>15.727820</td>\n",
       "      <td>11.500000</td>\n",
       "      <td>15.000000</td>\n",
       "      <td>53.065426</td>\n",
       "      <td>330.065295</td>\n",
       "      <td>254.365490</td>\n",
       "      <td>2.540474</td>\n",
       "      <td>13.564431</td>\n",
       "      <td>18.266769</td>\n",
       "      <td>1003.185230</td>\n",
       "      <td>79.376366</td>\n",
       "      <td>89.729463</td>\n",
       "      <td>2.903732</td>\n",
       "      <td>188.877796</td>\n",
       "      <td>2.262871</td>\n",
       "      <td>0.740433</td>\n",
       "    </tr>\n",
       "    <tr>\n",
       "      <th>std</th>\n",
       "      <td>2.871908</td>\n",
       "      <td>3.448543</td>\n",
       "      <td>8.799349</td>\n",
       "      <td>6.922206</td>\n",
       "      <td>15.000043</td>\n",
       "      <td>64.201407</td>\n",
       "      <td>370.030821</td>\n",
       "      <td>327.705006</td>\n",
       "      <td>3.021879</td>\n",
       "      <td>8.196787</td>\n",
       "      <td>8.943096</td>\n",
       "      <td>5.935749</td>\n",
       "      <td>19.678235</td>\n",
       "      <td>40.085451</td>\n",
       "      <td>1.546979</td>\n",
       "      <td>99.014733</td>\n",
       "      <td>1.281902</td>\n",
       "      <td>6.575655</td>\n",
       "    </tr>\n",
       "    <tr>\n",
       "      <th>min</th>\n",
       "      <td>2009.000000</td>\n",
       "      <td>1.000000</td>\n",
       "      <td>1.000000</td>\n",
       "      <td>0.000000</td>\n",
       "      <td>0.000000</td>\n",
       "      <td>0.000000</td>\n",
       "      <td>0.000000</td>\n",
       "      <td>0.000000</td>\n",
       "      <td>0.000000</td>\n",
       "      <td>-17.000000</td>\n",
       "      <td>-9.000000</td>\n",
       "      <td>970.000000</td>\n",
       "      <td>7.190000</td>\n",
       "      <td>8.550000</td>\n",
       "      <td>0.122000</td>\n",
       "      <td>0.000000</td>\n",
       "      <td>0.000000</td>\n",
       "      <td>0.000000</td>\n",
       "    </tr>\n",
       "    <tr>\n",
       "      <th>25%</th>\n",
       "      <td>2011.000000</td>\n",
       "      <td>4.000000</td>\n",
       "      <td>8.000000</td>\n",
       "      <td>5.750000</td>\n",
       "      <td>0.000000</td>\n",
       "      <td>0.000000</td>\n",
       "      <td>0.000000</td>\n",
       "      <td>0.000000</td>\n",
       "      <td>0.000000</td>\n",
       "      <td>8.000000</td>\n",
       "      <td>12.000000</td>\n",
       "      <td>1000.000000</td>\n",
       "      <td>65.590000</td>\n",
       "      <td>56.450000</td>\n",
       "      <td>1.534000</td>\n",
       "      <td>97.400000</td>\n",
       "      <td>1.300000</td>\n",
       "      <td>0.000000</td>\n",
       "    </tr>\n",
       "    <tr>\n",
       "      <th>50%</th>\n",
       "      <td>2013.500000</td>\n",
       "      <td>7.000000</td>\n",
       "      <td>16.000000</td>\n",
       "      <td>11.500000</td>\n",
       "      <td>15.000000</td>\n",
       "      <td>0.000000</td>\n",
       "      <td>0.000000</td>\n",
       "      <td>0.000000</td>\n",
       "      <td>1.000000</td>\n",
       "      <td>15.000000</td>\n",
       "      <td>20.000000</td>\n",
       "      <td>1000.000000</td>\n",
       "      <td>84.230000</td>\n",
       "      <td>89.860000</td>\n",
       "      <td>2.866000</td>\n",
       "      <td>200.000000</td>\n",
       "      <td>2.000000</td>\n",
       "      <td>0.000000</td>\n",
       "    </tr>\n",
       "    <tr>\n",
       "      <th>75%</th>\n",
       "      <td>2016.000000</td>\n",
       "      <td>10.000000</td>\n",
       "      <td>23.000000</td>\n",
       "      <td>17.250000</td>\n",
       "      <td>30.000000</td>\n",
       "      <td>103.000000</td>\n",
       "      <td>736.000000</td>\n",
       "      <td>535.000000</td>\n",
       "      <td>6.000000</td>\n",
       "      <td>21.000000</td>\n",
       "      <td>25.000000</td>\n",
       "      <td>1010.000000</td>\n",
       "      <td>97.950000</td>\n",
       "      <td>123.060000</td>\n",
       "      <td>4.223000</td>\n",
       "      <td>272.000000</td>\n",
       "      <td>3.000000</td>\n",
       "      <td>0.000000</td>\n",
       "    </tr>\n",
       "    <tr>\n",
       "      <th>max</th>\n",
       "      <td>2018.000000</td>\n",
       "      <td>12.000000</td>\n",
       "      <td>31.000000</td>\n",
       "      <td>23.000000</td>\n",
       "      <td>30.000000</td>\n",
       "      <td>565.000000</td>\n",
       "      <td>1040.000000</td>\n",
       "      <td>1063.000000</td>\n",
       "      <td>10.000000</td>\n",
       "      <td>26.900000</td>\n",
       "      <td>40.000000</td>\n",
       "      <td>1024.000000</td>\n",
       "      <td>100.000000</td>\n",
       "      <td>171.550000</td>\n",
       "      <td>7.700000</td>\n",
       "      <td>360.000000</td>\n",
       "      <td>12.900000</td>\n",
       "      <td>100.000000</td>\n",
       "    </tr>\n",
       "  </tbody>\n",
       "</table>\n",
       "</div>"
      ],
      "text/plain": [
       "                Year          Month            Day           Hour  \\\n",
       "count  175296.000000  175296.000000  175296.000000  175296.000000   \n",
       "mean     2013.500274       6.523549      15.727820      11.500000   \n",
       "std         2.871908       3.448543       8.799349       6.922206   \n",
       "min      2009.000000       1.000000       1.000000       0.000000   \n",
       "25%      2011.000000       4.000000       8.000000       5.750000   \n",
       "50%      2013.500000       7.000000      16.000000      11.500000   \n",
       "75%      2016.000000      10.000000      23.000000      17.250000   \n",
       "max      2018.000000      12.000000      31.000000      23.000000   \n",
       "\n",
       "              Minute   Clearsky DHI   Clearsky DNI   Clearsky GHI  \\\n",
       "count  175296.000000  175296.000000  175296.000000  175296.000000   \n",
       "mean       15.000000      53.065426     330.065295     254.365490   \n",
       "std        15.000043      64.201407     370.030821     327.705006   \n",
       "min         0.000000       0.000000       0.000000       0.000000   \n",
       "25%         0.000000       0.000000       0.000000       0.000000   \n",
       "50%        15.000000       0.000000       0.000000       0.000000   \n",
       "75%        30.000000     103.000000     736.000000     535.000000   \n",
       "max        30.000000     565.000000    1040.000000    1063.000000   \n",
       "\n",
       "          Cloud Type      Dew Point    Temperature       Pressure  \\\n",
       "count  175296.000000  175296.000000  175296.000000  175296.000000   \n",
       "mean        2.540474      13.564431      18.266769    1003.185230   \n",
       "std         3.021879       8.196787       8.943096       5.935749   \n",
       "min         0.000000     -17.000000      -9.000000     970.000000   \n",
       "25%         0.000000       8.000000      12.000000    1000.000000   \n",
       "50%         1.000000      15.000000      20.000000    1000.000000   \n",
       "75%         6.000000      21.000000      25.000000    1010.000000   \n",
       "max        10.000000      26.900000      40.000000    1024.000000   \n",
       "\n",
       "       Relative Humidity  Solar Zenith Angle  Precipitable Water  \\\n",
       "count      175296.000000       175296.000000       175296.000000   \n",
       "mean           79.376366           89.729463            2.903732   \n",
       "std            19.678235           40.085451            1.546979   \n",
       "min             7.190000            8.550000            0.122000   \n",
       "25%            65.590000           56.450000            1.534000   \n",
       "50%            84.230000           89.860000            2.866000   \n",
       "75%            97.950000          123.060000            4.223000   \n",
       "max           100.000000          171.550000            7.700000   \n",
       "\n",
       "       Wind Direction     Wind Speed      Fill Flag  \n",
       "count   175296.000000  175296.000000  175296.000000  \n",
       "mean       188.877796       2.262871       0.740433  \n",
       "std         99.014733       1.281902       6.575655  \n",
       "min          0.000000       0.000000       0.000000  \n",
       "25%         97.400000       1.300000       0.000000  \n",
       "50%        200.000000       2.000000       0.000000  \n",
       "75%        272.000000       3.000000       0.000000  \n",
       "max        360.000000      12.900000     100.000000  "
      ]
     },
     "execution_count": 6,
     "metadata": {},
     "output_type": "execute_result"
    }
   ],
   "source": [
    "df_train.describe()"
   ]
  },
  {
   "cell_type": "code",
   "execution_count": 7,
   "id": "97f71793",
   "metadata": {},
   "outputs": [
    {
     "data": {
      "text/plain": [
       "0"
      ]
     },
     "execution_count": 7,
     "metadata": {},
     "output_type": "execute_result"
    }
   ],
   "source": [
    "df_train.duplicated().sum()"
   ]
  },
  {
   "cell_type": "code",
   "execution_count": 8,
   "id": "4bfe66c8",
   "metadata": {
    "scrolled": true
   },
   "outputs": [
    {
     "data": {
      "text/plain": [
       "Year                  0\n",
       "Month                 0\n",
       "Day                   0\n",
       "Hour                  0\n",
       "Minute                0\n",
       "Clearsky DHI          0\n",
       "Clearsky DNI          0\n",
       "Clearsky GHI          0\n",
       "Cloud Type            0\n",
       "Dew Point             0\n",
       "Temperature           0\n",
       "Pressure              0\n",
       "Relative Humidity     0\n",
       "Solar Zenith Angle    0\n",
       "Precipitable Water    0\n",
       "Wind Direction        0\n",
       "Wind Speed            0\n",
       "Fill Flag             0\n",
       "dtype: int64"
      ]
     },
     "execution_count": 8,
     "metadata": {},
     "output_type": "execute_result"
    }
   ],
   "source": [
    "df_train.isnull().sum()"
   ]
  },
  {
   "cell_type": "code",
   "execution_count": 9,
   "id": "267f8727",
   "metadata": {},
   "outputs": [
    {
     "data": {
      "text/plain": [
       "Year                     10\n",
       "Month                    12\n",
       "Day                      31\n",
       "Hour                     24\n",
       "Minute                    2\n",
       "Clearsky DHI            375\n",
       "Clearsky DNI           1032\n",
       "Clearsky GHI           1053\n",
       "Cloud Type               10\n",
       "Dew Point               399\n",
       "Temperature             436\n",
       "Pressure                 50\n",
       "Relative Humidity      7923\n",
       "Solar Zenith Angle    16222\n",
       "Precipitable Water     6267\n",
       "Wind Direction         3601\n",
       "Wind Speed              117\n",
       "Fill Flag                31\n",
       "dtype: int64"
      ]
     },
     "execution_count": 9,
     "metadata": {},
     "output_type": "execute_result"
    }
   ],
   "source": [
    "# count of unique values in each column\n",
    "df_train.nunique()"
   ]
  },
  {
   "cell_type": "markdown",
   "id": "3c4fd2f8",
   "metadata": {},
   "source": [
    "# EDA"
   ]
  },
  {
   "cell_type": "code",
   "execution_count": 92,
   "id": "ddd71a75",
   "metadata": {},
   "outputs": [],
   "source": [
    "#categorizing the temperatures into high,low,medium\n",
    "high = [25,40]\n",
    "low = [-9, 10]\n",
    "medium = [10, 25]"
   ]
  },
  {
   "cell_type": "code",
   "execution_count": 11,
   "id": "f7a9ceac",
   "metadata": {},
   "outputs": [],
   "source": [
    "def temp_range(i):\n",
    "    if i >= high[0] and i <= high[1]:\n",
    "        return'[25,40]'\n",
    "    elif i >= low[0] and i <= low[1]:\n",
    "        return '[-9, 10]'\n",
    "    return '[10, 25]' "
   ]
  },
  {
   "cell_type": "code",
   "execution_count": 12,
   "id": "26ee0c3b",
   "metadata": {},
   "outputs": [],
   "source": [
    "df_train['temp'] = df_train['Temperature'].apply(lambda x: temp_range(x))"
   ]
  },
  {
   "cell_type": "code",
   "execution_count": 13,
   "id": "83111f7d",
   "metadata": {},
   "outputs": [
    {
     "data": {
      "text/html": [
       "<div>\n",
       "<style scoped>\n",
       "    .dataframe tbody tr th:only-of-type {\n",
       "        vertical-align: middle;\n",
       "    }\n",
       "\n",
       "    .dataframe tbody tr th {\n",
       "        vertical-align: top;\n",
       "    }\n",
       "\n",
       "    .dataframe thead th {\n",
       "        text-align: right;\n",
       "    }\n",
       "</style>\n",
       "<table border=\"1\" class=\"dataframe\">\n",
       "  <thead>\n",
       "    <tr style=\"text-align: right;\">\n",
       "      <th></th>\n",
       "      <th>Year</th>\n",
       "      <th>Month</th>\n",
       "      <th>Day</th>\n",
       "      <th>Hour</th>\n",
       "      <th>Minute</th>\n",
       "      <th>Clearsky DHI</th>\n",
       "      <th>Clearsky DNI</th>\n",
       "      <th>Clearsky GHI</th>\n",
       "      <th>Cloud Type</th>\n",
       "      <th>Dew Point</th>\n",
       "      <th>Temperature</th>\n",
       "      <th>Pressure</th>\n",
       "      <th>Relative Humidity</th>\n",
       "      <th>Solar Zenith Angle</th>\n",
       "      <th>Precipitable Water</th>\n",
       "      <th>Wind Direction</th>\n",
       "      <th>Wind Speed</th>\n",
       "      <th>Fill Flag</th>\n",
       "      <th>temp</th>\n",
       "    </tr>\n",
       "  </thead>\n",
       "  <tbody>\n",
       "    <tr>\n",
       "      <th>0</th>\n",
       "      <td>2009</td>\n",
       "      <td>1</td>\n",
       "      <td>1</td>\n",
       "      <td>0</td>\n",
       "      <td>0</td>\n",
       "      <td>0</td>\n",
       "      <td>0</td>\n",
       "      <td>0</td>\n",
       "      <td>0</td>\n",
       "      <td>0.0</td>\n",
       "      <td>5.0</td>\n",
       "      <td>1010</td>\n",
       "      <td>75.34</td>\n",
       "      <td>106.15</td>\n",
       "      <td>0.499</td>\n",
       "      <td>346.1</td>\n",
       "      <td>3.1</td>\n",
       "      <td>0</td>\n",
       "      <td>[-9, 10]</td>\n",
       "    </tr>\n",
       "    <tr>\n",
       "      <th>1</th>\n",
       "      <td>2009</td>\n",
       "      <td>1</td>\n",
       "      <td>1</td>\n",
       "      <td>0</td>\n",
       "      <td>30</td>\n",
       "      <td>0</td>\n",
       "      <td>0</td>\n",
       "      <td>0</td>\n",
       "      <td>0</td>\n",
       "      <td>1.0</td>\n",
       "      <td>5.0</td>\n",
       "      <td>1010</td>\n",
       "      <td>80.81</td>\n",
       "      <td>112.28</td>\n",
       "      <td>0.490</td>\n",
       "      <td>346.1</td>\n",
       "      <td>3.1</td>\n",
       "      <td>0</td>\n",
       "      <td>[-9, 10]</td>\n",
       "    </tr>\n",
       "    <tr>\n",
       "      <th>2</th>\n",
       "      <td>2009</td>\n",
       "      <td>1</td>\n",
       "      <td>1</td>\n",
       "      <td>1</td>\n",
       "      <td>0</td>\n",
       "      <td>0</td>\n",
       "      <td>0</td>\n",
       "      <td>0</td>\n",
       "      <td>4</td>\n",
       "      <td>0.0</td>\n",
       "      <td>5.0</td>\n",
       "      <td>1010</td>\n",
       "      <td>78.27</td>\n",
       "      <td>118.50</td>\n",
       "      <td>0.482</td>\n",
       "      <td>347.9</td>\n",
       "      <td>3.2</td>\n",
       "      <td>0</td>\n",
       "      <td>[-9, 10]</td>\n",
       "    </tr>\n",
       "    <tr>\n",
       "      <th>3</th>\n",
       "      <td>2009</td>\n",
       "      <td>1</td>\n",
       "      <td>1</td>\n",
       "      <td>1</td>\n",
       "      <td>30</td>\n",
       "      <td>0</td>\n",
       "      <td>0</td>\n",
       "      <td>0</td>\n",
       "      <td>4</td>\n",
       "      <td>0.0</td>\n",
       "      <td>4.0</td>\n",
       "      <td>1010</td>\n",
       "      <td>78.27</td>\n",
       "      <td>124.78</td>\n",
       "      <td>0.478</td>\n",
       "      <td>347.9</td>\n",
       "      <td>3.1</td>\n",
       "      <td>0</td>\n",
       "      <td>[-9, 10]</td>\n",
       "    </tr>\n",
       "    <tr>\n",
       "      <th>4</th>\n",
       "      <td>2009</td>\n",
       "      <td>1</td>\n",
       "      <td>1</td>\n",
       "      <td>2</td>\n",
       "      <td>0</td>\n",
       "      <td>0</td>\n",
       "      <td>0</td>\n",
       "      <td>0</td>\n",
       "      <td>4</td>\n",
       "      <td>0.0</td>\n",
       "      <td>4.0</td>\n",
       "      <td>1010</td>\n",
       "      <td>76.45</td>\n",
       "      <td>131.12</td>\n",
       "      <td>0.475</td>\n",
       "      <td>350.0</td>\n",
       "      <td>3.0</td>\n",
       "      <td>0</td>\n",
       "      <td>[-9, 10]</td>\n",
       "    </tr>\n",
       "  </tbody>\n",
       "</table>\n",
       "</div>"
      ],
      "text/plain": [
       "   Year  Month  Day  Hour  Minute  Clearsky DHI  Clearsky DNI  Clearsky GHI  \\\n",
       "0  2009      1    1     0       0             0             0             0   \n",
       "1  2009      1    1     0      30             0             0             0   \n",
       "2  2009      1    1     1       0             0             0             0   \n",
       "3  2009      1    1     1      30             0             0             0   \n",
       "4  2009      1    1     2       0             0             0             0   \n",
       "\n",
       "   Cloud Type  Dew Point  Temperature  Pressure  Relative Humidity  \\\n",
       "0           0        0.0          5.0      1010              75.34   \n",
       "1           0        1.0          5.0      1010              80.81   \n",
       "2           4        0.0          5.0      1010              78.27   \n",
       "3           4        0.0          4.0      1010              78.27   \n",
       "4           4        0.0          4.0      1010              76.45   \n",
       "\n",
       "   Solar Zenith Angle  Precipitable Water  Wind Direction  Wind Speed  \\\n",
       "0              106.15               0.499           346.1         3.1   \n",
       "1              112.28               0.490           346.1         3.1   \n",
       "2              118.50               0.482           347.9         3.2   \n",
       "3              124.78               0.478           347.9         3.1   \n",
       "4              131.12               0.475           350.0         3.0   \n",
       "\n",
       "   Fill Flag      temp  \n",
       "0          0  [-9, 10]  \n",
       "1          0  [-9, 10]  \n",
       "2          0  [-9, 10]  \n",
       "3          0  [-9, 10]  \n",
       "4          0  [-9, 10]  "
      ]
     },
     "execution_count": 13,
     "metadata": {},
     "output_type": "execute_result"
    }
   ],
   "source": [
    "df_train.head()"
   ]
  },
  {
   "cell_type": "code",
   "execution_count": 14,
   "id": "c947a76a",
   "metadata": {},
   "outputs": [],
   "source": [
    "# Creating 4 seasons to check their effect on dependent columns\n",
    "season_dict = {1: 'Winter',\n",
    "               2: 'Winter',\n",
    "               3: 'Spring', \n",
    "               4: 'Spring',\n",
    "               5: 'Spring',\n",
    "               6: 'Summer',\n",
    "               7: 'Summer',\n",
    "               8: 'Summer',\n",
    "               9: 'Fall',\n",
    "               10: 'Fall',\n",
    "               11: 'Fall',\n",
    "               12: 'Winter'}\n",
    "df_train['Season'] = df_train['Month'].apply(lambda x: season_dict[x])"
   ]
  },
  {
   "cell_type": "code",
   "execution_count": 15,
   "id": "776bbc22",
   "metadata": {
    "scrolled": true
   },
   "outputs": [
    {
     "name": "stderr",
     "output_type": "stream",
     "text": [
      "C:\\Users\\Kalyani\\anaconda3\\lib\\site-packages\\seaborn\\_decorators.py:36: FutureWarning: Pass the following variables as keyword args: x, y. From version 0.12, the only valid positional argument will be `data`, and passing other arguments without an explicit keyword will result in an error or misinterpretation.\n",
      "  warnings.warn(\n"
     ]
    },
    {
     "data": {
      "image/png": "[encoded data removed]",
      "text/plain": [
       "<Figure size 432x288 with 1 Axes>"
      ]
     },
     "metadata": {
      "needs_background": "light"
     },
     "output_type": "display_data"
    }
   ],
   "source": [
    "# As we created a season column to check whether the seasons are assigned correctly we plotted a plot between temp vs season\n",
    "# Asusual summer has high temperature\n",
    "sns.barplot(df_train['Temperature'], df_train['Season'])\n",
    "plt.title('Season vs Temperatue')\n",
    "plt.show()"
   ]
  },
  {
   "cell_type": "code",
   "execution_count": 16,
   "id": "9fe669ca",
   "metadata": {},
   "outputs": [],
   "source": [
    "# clearly, summer has higher temperature than remaining seasons"
   ]
  },
  {
   "cell_type": "code",
   "execution_count": 17,
   "id": "f097ad03",
   "metadata": {
    "scrolled": false
   },
   "outputs": [
    {
     "name": "stderr",
     "output_type": "stream",
     "text": [
      "C:\\Users\\Kalyani\\anaconda3\\lib\\site-packages\\seaborn\\_decorators.py:36: FutureWarning: Pass the following variables as keyword args: x, y. From version 0.12, the only valid positional argument will be `data`, and passing other arguments without an explicit keyword will result in an error or misinterpretation.\n",
      "  warnings.warn(\n"
     ]
    },
    {
     "data": {
      "image/png": "[encoded data removed]",
      "text/plain": [
       "<Figure size 432x288 with 1 Axes>"
      ]
     },
     "metadata": {
      "needs_background": "light"
     },
     "output_type": "display_data"
    }
   ],
   "source": [
    "sns.barplot(df_train['Relative Humidity'], df_train['Season'])\n",
    "plt.title('Relative Humidity vs Season')\n",
    "plt.show()"
   ]
  },
  {
   "cell_type": "code",
   "execution_count": 18,
   "id": "e0ba1a41",
   "metadata": {},
   "outputs": [],
   "source": [
    "# there is not much difference in humidity among seasons but in winter there is a little high"
   ]
  },
  {
   "cell_type": "code",
   "execution_count": 19,
   "id": "d3d0d29f",
   "metadata": {},
   "outputs": [
    {
     "name": "stderr",
     "output_type": "stream",
     "text": [
      "C:\\Users\\Kalyani\\anaconda3\\lib\\site-packages\\seaborn\\_decorators.py:36: FutureWarning: Pass the following variables as keyword args: x, y. From version 0.12, the only valid positional argument will be `data`, and passing other arguments without an explicit keyword will result in an error or misinterpretation.\n",
      "  warnings.warn(\n"
     ]
    },
    {
     "data": {
      "image/png": "[encoded data removed]",
      "text/plain": [
       "<Figure size 432x288 with 1 Axes>"
      ]
     },
     "metadata": {
      "needs_background": "light"
     },
     "output_type": "display_data"
    }
   ],
   "source": [
    "sns.barplot(df_train['Wind Speed'], df_train['Season'])\n",
    "plt.title('Wind Speed vs Season')\n",
    "plt.show()"
   ]
  },
  {
   "cell_type": "code",
   "execution_count": 20,
   "id": "879cd1ef",
   "metadata": {},
   "outputs": [],
   "source": [
    "# Wind speed is almost same in winter and spring (higher than remaining 2 seasons)"
   ]
  },
  {
   "cell_type": "code",
   "execution_count": 21,
   "id": "bcf6a0ab",
   "metadata": {},
   "outputs": [
    {
     "name": "stderr",
     "output_type": "stream",
     "text": [
      "C:\\Users\\Kalyani\\anaconda3\\lib\\site-packages\\seaborn\\_decorators.py:36: FutureWarning: Pass the following variables as keyword args: x, y. From version 0.12, the only valid positional argument will be `data`, and passing other arguments without an explicit keyword will result in an error or misinterpretation.\n",
      "  warnings.warn(\n"
     ]
    },
    {
     "data": {
      "image/png": "[encoded data removed]",
      "text/plain": [
       "<Figure size 432x288 with 1 Axes>"
      ]
     },
     "metadata": {
      "needs_background": "light"
     },
     "output_type": "display_data"
    }
   ],
   "source": [
    "sns.barplot(df_train['Dew Point'], df_train['Season'])\n",
    "plt.title('Dew Point vs Season')\n",
    "plt.show()"
   ]
  },
  {
   "cell_type": "code",
   "execution_count": 22,
   "id": "358ea192",
   "metadata": {},
   "outputs": [],
   "source": [
    "# Dew point is higher in summer"
   ]
  },
  {
   "cell_type": "code",
   "execution_count": 23,
   "id": "693543e8",
   "metadata": {
    "scrolled": true
   },
   "outputs": [
    {
     "name": "stderr",
     "output_type": "stream",
     "text": [
      "C:\\Users\\Kalyani\\anaconda3\\lib\\site-packages\\seaborn\\_decorators.py:36: FutureWarning: Pass the following variables as keyword args: x, y. From version 0.12, the only valid positional argument will be `data`, and passing other arguments without an explicit keyword will result in an error or misinterpretation.\n",
      "  warnings.warn(\n"
     ]
    },
    {
     "data": {
      "image/png": "[encoded data removed]",
      "text/plain": [
       "<Figure size 432x288 with 1 Axes>"
      ]
     },
     "metadata": {
      "needs_background": "light"
     },
     "output_type": "display_data"
    }
   ],
   "source": [
    "sns.barplot(df_train['Clearsky DHI'], df_train['Season'])\n",
    "plt.title('Clearsky DHI vs Season')\n",
    "plt.show()"
   ]
  },
  {
   "cell_type": "code",
   "execution_count": 24,
   "id": "1f63f4de",
   "metadata": {},
   "outputs": [],
   "source": [
    "# Clearsky DHI value is higher in summer than remaining seasons\n",
    "# Hence we can estimate that Clearsky sky value increases with the increase in temperatures"
   ]
  },
  {
   "cell_type": "code",
   "execution_count": 25,
   "id": "f7607258",
   "metadata": {
    "scrolled": true
   },
   "outputs": [
    {
     "name": "stderr",
     "output_type": "stream",
     "text": [
      "C:\\Users\\Kalyani\\anaconda3\\lib\\site-packages\\seaborn\\_decorators.py:36: FutureWarning: Pass the following variables as keyword args: x, y. From version 0.12, the only valid positional argument will be `data`, and passing other arguments without an explicit keyword will result in an error or misinterpretation.\n",
      "  warnings.warn(\n"
     ]
    },
    {
     "data": {
      "image/png": "[encoded data removed]",
      "text/plain": [
       "<Figure size 432x288 with 1 Axes>"
      ]
     },
     "metadata": {
      "needs_background": "light"
     },
     "output_type": "display_data"
    }
   ],
   "source": [
    "sns.barplot(df_train['Clearsky GHI'], df_train['Season'])\n",
    "plt.title('Clearsky GHI vs Season')\n",
    "plt.show()"
   ]
  },
  {
   "cell_type": "code",
   "execution_count": 26,
   "id": "8e175458",
   "metadata": {},
   "outputs": [],
   "source": [
    "# Clearsky GHI is higher in Summer\n",
    "# Even Clearsky GHI values also increases with the increase in temperature"
   ]
  },
  {
   "cell_type": "code",
   "execution_count": 27,
   "id": "39c7a186",
   "metadata": {},
   "outputs": [
    {
     "name": "stderr",
     "output_type": "stream",
     "text": [
      "C:\\Users\\Kalyani\\anaconda3\\lib\\site-packages\\seaborn\\_decorators.py:36: FutureWarning: Pass the following variables as keyword args: x, y. From version 0.12, the only valid positional argument will be `data`, and passing other arguments without an explicit keyword will result in an error or misinterpretation.\n",
      "  warnings.warn(\n"
     ]
    },
    {
     "data": {
      "image/png": "[encoded data removed]",
      "text/plain": [
       "<Figure size 432x288 with 1 Axes>"
      ]
     },
     "metadata": {
      "needs_background": "light"
     },
     "output_type": "display_data"
    }
   ],
   "source": [
    "sns.barplot(df_train['Clearsky DNI'], df_train['Season'])\n",
    "plt.title('Clearsky DNI vs Season')\n",
    "plt.show()"
   ]
  },
  {
   "cell_type": "code",
   "execution_count": 28,
   "id": "52221270",
   "metadata": {},
   "outputs": [],
   "source": [
    "# Clearsky DNI is almost same in spring and summer\n",
    "# so at moderate temperatures the Clearsky DNI also yields a good value"
   ]
  },
  {
   "cell_type": "code",
   "execution_count": 118,
   "id": "c3bc15e3",
   "metadata": {},
   "outputs": [],
   "source": [
    "# df_train['Season'] = df_train['Month'].apply(lambda x: season_dict[x])\n",
    "# df_train[[\"Season\",\"Clearsky DHI\"]].groupby(\"Season\").agg(\"sum\").plot(marker = 'o',figsize = (10,5),color = \"darkblue\")\n",
    "# plt.title(\"How total Clearsky DHI is changing wrt Seasons: \",color = 'purple',size = 10)\n",
    "\n",
    "# df_train[[\"Season\",\"Clearsky DNI\"]].groupby(\"Season\").agg(\"sum\").plot(marker = 'o',figsize = (10,5),color = 'r')\n",
    "# plt.title(\"How total Clearsky DNI is changing wrt Seasons: \",color = 'purple',size = 10)\n",
    "\n",
    "\n",
    "# df_train[[\"Season\",\"Clearsky GHI\"]].groupby(\"Season\").agg(\"sum\").plot(marker = 'o',figsize = (10,5),color = 'brown')\n",
    "# plt.title(\"How total Clearsky GHI is changing wrt Seasons: \",color = 'purple',size = 10)\n",
    "# plt.show()"
   ]
  },
  {
   "cell_type": "code",
   "execution_count": 30,
   "id": "058ef825",
   "metadata": {},
   "outputs": [],
   "source": [
    "high = [25,40]\n",
    "low = [-9, 10]\n",
    "medium = [10, 25]"
   ]
  },
  {
   "cell_type": "code",
   "execution_count": 31,
   "id": "6bb3334f",
   "metadata": {},
   "outputs": [],
   "source": [
    "# changing temperature column in to a range\n",
    "def temp_range(i):\n",
    "    if i >= high[0] and i <= high[1]:\n",
    "        return'[25,40]'\n",
    "    elif i >= low[0] and i <= low[1]:\n",
    "        return '[-9, 10]'\n",
    "    return '[10, 25]' "
   ]
  },
  {
   "cell_type": "code",
   "execution_count": 32,
   "id": "d9380af7",
   "metadata": {},
   "outputs": [],
   "source": [
    "df_train['temp'] = df_train['Temperature'].apply(lambda x: temp_range(x))"
   ]
  },
  {
   "cell_type": "code",
   "execution_count": 33,
   "id": "7f290837",
   "metadata": {},
   "outputs": [
    {
     "name": "stderr",
     "output_type": "stream",
     "text": [
      "C:\\Users\\Kalyani\\anaconda3\\lib\\site-packages\\seaborn\\_decorators.py:36: FutureWarning: Pass the following variables as keyword args: x, y. From version 0.12, the only valid positional argument will be `data`, and passing other arguments without an explicit keyword will result in an error or misinterpretation.\n",
      "  warnings.warn(\n"
     ]
    },
    {
     "data": {
      "image/png": "[encoded data removed]",
      "text/plain": [
       "<Figure size 432x288 with 1 Axes>"
      ]
     },
     "metadata": {
      "needs_background": "light"
     },
     "output_type": "display_data"
    }
   ],
   "source": [
    "sns.barplot(df_train['Clearsky DNI'], df_train['temp'])\n",
    "plt.title('Clearsky DNI vs Temperature')\n",
    "plt.show()"
   ]
  },
  {
   "cell_type": "code",
   "execution_count": 34,
   "id": "5c1b65ba",
   "metadata": {},
   "outputs": [],
   "source": [
    "# Clearsky DNI value is higher when temperature is high"
   ]
  },
  {
   "cell_type": "code",
   "execution_count": 35,
   "id": "78efe1ca",
   "metadata": {},
   "outputs": [
    {
     "name": "stderr",
     "output_type": "stream",
     "text": [
      "C:\\Users\\Kalyani\\anaconda3\\lib\\site-packages\\seaborn\\_decorators.py:36: FutureWarning: Pass the following variables as keyword args: x, y. From version 0.12, the only valid positional argument will be `data`, and passing other arguments without an explicit keyword will result in an error or misinterpretation.\n",
      "  warnings.warn(\n"
     ]
    },
    {
     "data": {
      "image/png": "[encoded data removed]",
      "text/plain": [
       "<Figure size 432x288 with 1 Axes>"
      ]
     },
     "metadata": {
      "needs_background": "light"
     },
     "output_type": "display_data"
    }
   ],
   "source": [
    "sns.barplot(df_train['Clearsky DHI'], df_train['temp'])\n",
    "plt.title('Clearsky DHI vs Temperature')\n",
    "plt.show()"
   ]
  },
  {
   "cell_type": "code",
   "execution_count": 36,
   "id": "3c4dd402",
   "metadata": {},
   "outputs": [],
   "source": [
    "# Clearsky DHI value is higher when temperature is high"
   ]
  },
  {
   "cell_type": "code",
   "execution_count": 37,
   "id": "ee9011f8",
   "metadata": {},
   "outputs": [],
   "source": [
    "# exploring the relation of other variables with temperature"
   ]
  },
  {
   "cell_type": "code",
   "execution_count": 38,
   "id": "65ef24ef",
   "metadata": {},
   "outputs": [],
   "source": [
    "# variation of Clearsky GHI with respect to temperatures"
   ]
  },
  {
   "cell_type": "code",
   "execution_count": 39,
   "id": "36dcdf0b",
   "metadata": {},
   "outputs": [
    {
     "name": "stderr",
     "output_type": "stream",
     "text": [
      "C:\\Users\\Kalyani\\anaconda3\\lib\\site-packages\\seaborn\\_decorators.py:36: FutureWarning: Pass the following variables as keyword args: x, y. From version 0.12, the only valid positional argument will be `data`, and passing other arguments without an explicit keyword will result in an error or misinterpretation.\n",
      "  warnings.warn(\n"
     ]
    },
    {
     "data": {
      "image/png": "[encoded data removed]",
      "text/plain": [
       "<Figure size 432x288 with 1 Axes>"
      ]
     },
     "metadata": {
      "needs_background": "light"
     },
     "output_type": "display_data"
    }
   ],
   "source": [
    "sns.barplot(df_train['Clearsky GHI'], df_train['temp'])\n",
    "plt.title('Clearsky GHI vs Temperature')\n",
    "plt.show()"
   ]
  },
  {
   "cell_type": "code",
   "execution_count": 40,
   "id": "532a0837",
   "metadata": {},
   "outputs": [],
   "source": [
    "# From the plot we can depict that the Clearsky values are high mostly in the temperature range of [25,40]\n",
    "# Clearsky GHI value is higher when temperature is high"
   ]
  },
  {
   "cell_type": "code",
   "execution_count": 41,
   "id": "677087bd",
   "metadata": {},
   "outputs": [],
   "source": [
    "# predicting the variation of Relative Humidity with respect to Temperature"
   ]
  },
  {
   "cell_type": "code",
   "execution_count": 42,
   "id": "551d186d",
   "metadata": {},
   "outputs": [
    {
     "name": "stderr",
     "output_type": "stream",
     "text": [
      "C:\\Users\\Kalyani\\anaconda3\\lib\\site-packages\\seaborn\\_decorators.py:36: FutureWarning: Pass the following variables as keyword args: x, y. From version 0.12, the only valid positional argument will be `data`, and passing other arguments without an explicit keyword will result in an error or misinterpretation.\n",
      "  warnings.warn(\n"
     ]
    },
    {
     "data": {
      "image/png": "[encoded data removed]",
      "text/plain": [
       "<Figure size 432x288 with 1 Axes>"
      ]
     },
     "metadata": {
      "needs_background": "light"
     },
     "output_type": "display_data"
    }
   ],
   "source": [
    "sns.barplot(df_train['Relative Humidity'], df_train['temp'])\n",
    "plt.title('Relative Humidity vs temperatue')\n",
    "plt.show()"
   ]
  },
  {
   "cell_type": "code",
   "execution_count": 43,
   "id": "71b44372",
   "metadata": {},
   "outputs": [],
   "source": [
    "# Relative Humidity is maximum with temperature ranges of [-9,10] and [10,25]"
   ]
  },
  {
   "cell_type": "markdown",
   "id": "d4b399d2",
   "metadata": {},
   "source": [
    "# Tracing Outliers"
   ]
  },
  {
   "cell_type": "code",
   "execution_count": 44,
   "id": "cf480242",
   "metadata": {},
   "outputs": [],
   "source": [
    "# deploying the outliers in every column of the dataset using the Boxplots"
   ]
  },
  {
   "cell_type": "code",
   "execution_count": 45,
   "id": "39e4a5db",
   "metadata": {},
   "outputs": [
    {
     "data": {
      "image/png": "[encoded data removed]",
      "text/plain": [
       "<Figure size 1224x72 with 1 Axes>"
      ]
     },
     "metadata": {
      "needs_background": "light"
     },
     "output_type": "display_data"
    },
    {
     "data": {
      "image/png": "[encoded data removed]",
      "text/plain": [
       "<Figure size 1224x72 with 1 Axes>"
      ]
     },
     "metadata": {
      "needs_background": "light"
     },
     "output_type": "display_data"
    },
    {
     "data": {
      "image/png": "[encoded data removed]",
      "text/plain": [
       "<Figure size 1224x72 with 1 Axes>"
      ]
     },
     "metadata": {
      "needs_background": "light"
     },
     "output_type": "display_data"
    },
    {
     "data": {
      "image/png": "[encoded data removed]",
      "text/plain": [
       "<Figure size 1224x72 with 1 Axes>"
      ]
     },
     "metadata": {
      "needs_background": "light"
     },
     "output_type": "display_data"
    },
    {
     "data": {
      "image/png": "[encoded data removed]",
      "text/plain": [
       "<Figure size 1224x72 with 1 Axes>"
      ]
     },
     "metadata": {
      "needs_background": "light"
     },
     "output_type": "display_data"
    },
    {
     "data": {
      "image/png": "[encoded data removed]",
      "text/plain": [
       "<Figure size 1224x72 with 1 Axes>"
      ]
     },
     "metadata": {
      "needs_background": "light"
     },
     "output_type": "display_data"
    },
    {
     "data": {
      "image/png": "[encoded data removed]",
      "text/plain": [
       "<Figure size 1224x72 with 1 Axes>"
      ]
     },
     "metadata": {
      "needs_background": "light"
     },
     "output_type": "display_data"
    },
    {
     "data": {
      "image/png": "[encoded data removed]",
      "text/plain": [
       "<Figure size 1224x72 with 1 Axes>"
      ]
     },
     "metadata": {
      "needs_background": "light"
     },
     "output_type": "display_data"
    },
    {
     "data": {
      "image/png": "[encoded data removed]",
      "text/plain": [
       "<Figure size 1224x72 with 1 Axes>"
      ]
     },
     "metadata": {
      "needs_background": "light"
     },
     "output_type": "display_data"
    },
    {
     "data": {
      "image/png": "[encoded data removed]",
      "text/plain": [
       "<Figure size 1224x72 with 1 Axes>"
      ]
     },
     "metadata": {
      "needs_background": "light"
     },
     "output_type": "display_data"
    },
    {
     "data": {
      "image/png": "[encoded data removed]",
      "text/plain": [
       "<Figure size 1224x72 with 1 Axes>"
      ]
     },
     "metadata": {
      "needs_background": "light"
     },
     "output_type": "display_data"
    },
    {
     "data": {
      "image/png": "[encoded data removed]",
      "text/plain": [
       "<Figure size 1224x72 with 1 Axes>"
      ]
     },
     "metadata": {
      "needs_background": "light"
     },
     "output_type": "display_data"
    },
    {
     "data": {
      "image/png": "[encoded data removed]",
      "text/plain": [
       "<Figure size 1224x72 with 1 Axes>"
      ]
     },
     "metadata": {
      "needs_background": "light"
     },
     "output_type": "display_data"
    },
    {
     "data": {
      "image/png": "[encoded data removed]",
      "text/plain": [
       "<Figure size 1224x72 with 1 Axes>"
      ]
     },
     "metadata": {
      "needs_background": "light"
     },
     "output_type": "display_data"
    },
    {
     "data": {
      "image/png": "[encoded data removed]",
      "text/plain": [
       "<Figure size 1224x72 with 1 Axes>"
      ]
     },
     "metadata": {
      "needs_background": "light"
     },
     "output_type": "display_data"
    },
    {
     "data": {
      "image/png": "[encoded data removed]",
      "text/plain": [
       "<Figure size 1224x72 with 1 Axes>"
      ]
     },
     "metadata": {
      "needs_background": "light"
     },
     "output_type": "display_data"
    },
    {
     "data": {
      "image/png": "[encoded data removed]",
      "text/plain": [
       "<Figure size 1224x72 with 1 Axes>"
      ]
     },
     "metadata": {
      "needs_background": "light"
     },
     "output_type": "display_data"
    },
    {
     "data": {
      "image/png": "[encoded data removed]",
      "text/plain": [
       "<Figure size 1224x72 with 1 Axes>"
      ]
     },
     "metadata": {
      "needs_background": "light"
     },
     "output_type": "display_data"
    }
   ],
   "source": [
    "df1=df_train.select_dtypes(exclude=['object'])\n",
    "for column in df1:\n",
    "        plt.figure(figsize=(17,1))\n",
    "        sns.boxplot(data=df1, x=column)"
   ]
  },
  {
   "cell_type": "code",
   "execution_count": 46,
   "id": "df755827",
   "metadata": {},
   "outputs": [
    {
     "name": "stderr",
     "output_type": "stream",
     "text": [
      "C:\\Users\\Kalyani\\AppData\\Local\\Temp/ipykernel_17940/3081181231.py:5: FutureWarning: Automatic reindexing on DataFrame vs Series comparisons is deprecated and will raise ValueError in a future version.  Do `left, right = left.align(right, axis=1, copy=False)` before e.g. `left == right`\n",
      "  df_train = df_train[~((df_train < (Q1 - 1.5 * IQR))| (df_train > (Q3 + 1.5 * IQR))). any(axis=1)]\n"
     ]
    }
   ],
   "source": [
    "# handling outiers\n",
    "Q1 = df_train.quantile(0.25)\n",
    "Q3 = df_train.quantile(0.75)\n",
    "IQR = Q3 - Q1\n",
    "df_train = df_train[~((df_train < (Q1 - 1.5 * IQR))| (df_train > (Q3 + 1.5 * IQR))). any(axis=1)]"
   ]
  },
  {
   "cell_type": "code",
   "execution_count": 47,
   "id": "95eab207",
   "metadata": {},
   "outputs": [
    {
     "data": {
      "text/plain": [
       "(160021, 20)"
      ]
     },
     "execution_count": 47,
     "metadata": {},
     "output_type": "execute_result"
    }
   ],
   "source": [
    "df_train.shape"
   ]
  },
  {
   "cell_type": "code",
   "execution_count": 48,
   "id": "8ca77a8f",
   "metadata": {},
   "outputs": [
    {
     "data": {
      "image/png": "[encoded data removed]",
      "text/plain": [
       "<Figure size 1224x72 with 1 Axes>"
      ]
     },
     "metadata": {
      "needs_background": "light"
     },
     "output_type": "display_data"
    },
    {
     "data": {
      "image/png": "[encoded data removed]",
      "text/plain": [
       "<Figure size 1224x72 with 1 Axes>"
      ]
     },
     "metadata": {
      "needs_background": "light"
     },
     "output_type": "display_data"
    },
    {
     "data": {
      "image/png": "[encoded data removed]",
      "text/plain": [
       "<Figure size 1224x72 with 1 Axes>"
      ]
     },
     "metadata": {
      "needs_background": "light"
     },
     "output_type": "display_data"
    },
    {
     "data": {
      "image/png": "[encoded data removed]",
      "text/plain": [
       "<Figure size 1224x72 with 1 Axes>"
      ]
     },
     "metadata": {
      "needs_background": "light"
     },
     "output_type": "display_data"
    },
    {
     "data": {
      "image/png": "[encoded data removed]",
      "text/plain": [
       "<Figure size 1224x72 with 1 Axes>"
      ]
     },
     "metadata": {
      "needs_background": "light"
     },
     "output_type": "display_data"
    },
    {
     "data": {
      "image/png": "[encoded data removed]",
      "text/plain": [
       "<Figure size 1224x72 with 1 Axes>"
      ]
     },
     "metadata": {
      "needs_background": "light"
     },
     "output_type": "display_data"
    },
    {
     "data": {
      "image/png": "[encoded data removed]",
      "text/plain": [
       "<Figure size 1224x72 with 1 Axes>"
      ]
     },
     "metadata": {
      "needs_background": "light"
     },
     "output_type": "display_data"
    },
    {
     "data": {
      "image/png": "[encoded data removed]",
      "text/plain": [
       "<Figure size 1224x72 with 1 Axes>"
      ]
     },
     "metadata": {
      "needs_background": "light"
     },
     "output_type": "display_data"
    },
    {
     "data": {
      "image/png": "[encoded data removed]",
      "text/plain": [
       "<Figure size 1224x72 with 1 Axes>"
      ]
     },
     "metadata": {
      "needs_background": "light"
     },
     "output_type": "display_data"
    },
    {
     "data": {
      "image/png": "[encoded data removed]",
      "text/plain": [
       "<Figure size 1224x72 with 1 Axes>"
      ]
     },
     "metadata": {
      "needs_background": "light"
     },
     "output_type": "display_data"
    },
    {
     "data": {
      "image/png": "[encoded data removed]",
      "text/plain": [
       "<Figure size 1224x72 with 1 Axes>"
      ]
     },
     "metadata": {
      "needs_background": "light"
     },
     "output_type": "display_data"
    },
    {
     "data": {
      "image/png": "[encoded data removed]",
      "text/plain": [
       "<Figure size 1224x72 with 1 Axes>"
      ]
     },
     "metadata": {
      "needs_background": "light"
     },
     "output_type": "display_data"
    },
    {
     "data": {
      "image/png": "[encoded data removed]",
      "text/plain": [
       "<Figure size 1224x72 with 1 Axes>"
      ]
     },
     "metadata": {
      "needs_background": "light"
     },
     "output_type": "display_data"
    },
    {
     "data": {
      "image/png": "[encoded data removed]",
      "text/plain": [
       "<Figure size 1224x72 with 1 Axes>"
      ]
     },
     "metadata": {
      "needs_background": "light"
     },
     "output_type": "display_data"
    },
    {
     "data": {
      "image/png": "[encoded data removed]",
      "text/plain": [
       "<Figure size 1224x72 with 1 Axes>"
      ]
     },
     "metadata": {
      "needs_background": "light"
     },
     "output_type": "display_data"
    },
    {
     "data": {
      "image/png": "[encoded data removed]",
      "text/plain": [
       "<Figure size 1224x72 with 1 Axes>"
      ]
     },
     "metadata": {
      "needs_background": "light"
     },
     "output_type": "display_data"
    },
    {
     "data": {
      "image/png": "[encoded data removed]",
      "text/plain": [
       "<Figure size 1224x72 with 1 Axes>"
      ]
     },
     "metadata": {
      "needs_background": "light"
     },
     "output_type": "display_data"
    },
    {
     "data": {
      "image/png": "[encoded data removed]",
      "text/plain": [
       "<Figure size 1224x72 with 1 Axes>"
      ]
     },
     "metadata": {
      "needs_background": "light"
     },
     "output_type": "display_data"
    }
   ],
   "source": [
    "df1=df_train.select_dtypes(exclude=['object'])\n",
    "for column in df1:\n",
    "        plt.figure(figsize=(17,1))\n",
    "        sns.boxplot(data=df1, x=column)"
   ]
  },
  {
   "cell_type": "code",
   "execution_count": 49,
   "id": "7b8a7c18",
   "metadata": {},
   "outputs": [],
   "source": [
    "# after clearing the outliers we observe that the column 'FLAG FILL' doesnot contain any required data so we conclude of removing the column\n",
    "# Removing Fill Flag Column\n",
    "df_train.drop(columns = ['Fill Flag'], inplace = True)"
   ]
  },
  {
   "cell_type": "code",
   "execution_count": 50,
   "id": "c15a8506",
   "metadata": {},
   "outputs": [
    {
     "data": {
      "text/plain": [
       "(160021, 19)"
      ]
     },
     "execution_count": 50,
     "metadata": {},
     "output_type": "execute_result"
    }
   ],
   "source": [
    "# dimensions of the dataset after clearing the FILL FLAG colomn\n",
    "df_train.shape"
   ]
  },
  {
   "cell_type": "markdown",
   "id": "9d19cd99",
   "metadata": {},
   "source": [
    "# HeatMap"
   ]
  },
  {
   "cell_type": "code",
   "execution_count": 51,
   "id": "10f6c9cd",
   "metadata": {
    "scrolled": false
   },
   "outputs": [
    {
     "data": {
      "text/plain": [
       "<AxesSubplot:>"
      ]
     },
     "execution_count": 51,
     "metadata": {},
     "output_type": "execute_result"
    },
    {
     "data": {
      "image/png": "[encoded data removed]",
      "text/plain": [
       "<Figure size 432x288 with 2 Axes>"
      ]
     },
     "metadata": {
      "needs_background": "light"
     },
     "output_type": "display_data"
    }
   ],
   "source": [
    "sns.heatmap(df_train.corr()[['Clearsky DHI', 'Clearsky DNI', 'Clearsky GHI']], annot = True)"
   ]
  },
  {
   "cell_type": "markdown",
   "id": "d57591dd",
   "metadata": {},
   "source": [
    "# Spliting the data"
   ]
  },
  {
   "cell_type": "code",
   "execution_count": 52,
   "id": "4495050e",
   "metadata": {},
   "outputs": [],
   "source": [
    "from sklearn.model_selection import train_test_split"
   ]
  },
  {
   "cell_type": "code",
   "execution_count": 53,
   "id": "d23b81cd",
   "metadata": {},
   "outputs": [],
   "source": [
    "X = df_train.drop(columns=['Clearsky DHI', 'Clearsky DNI', 'Clearsky GHI','Season','temp'],axis = 1)\n",
    "Y1 = df_train['Clearsky DHI']\n",
    "Y2 = df_train['Clearsky DNI']\n",
    "Y3= df_train['Clearsky GHI']"
   ]
  },
  {
   "cell_type": "code",
   "execution_count": 54,
   "id": "b388bd4e",
   "metadata": {},
   "outputs": [
    {
     "data": {
      "text/html": [
       "<div>\n",
       "<style scoped>\n",
       "    .dataframe tbody tr th:only-of-type {\n",
       "        vertical-align: middle;\n",
       "    }\n",
       "\n",
       "    .dataframe tbody tr th {\n",
       "        vertical-align: top;\n",
       "    }\n",
       "\n",
       "    .dataframe thead th {\n",
       "        text-align: right;\n",
       "    }\n",
       "</style>\n",
       "<table border=\"1\" class=\"dataframe\">\n",
       "  <thead>\n",
       "    <tr style=\"text-align: right;\">\n",
       "      <th></th>\n",
       "      <th>Year</th>\n",
       "      <th>Month</th>\n",
       "      <th>Day</th>\n",
       "      <th>Hour</th>\n",
       "      <th>Minute</th>\n",
       "      <th>Cloud Type</th>\n",
       "      <th>Dew Point</th>\n",
       "      <th>Temperature</th>\n",
       "      <th>Pressure</th>\n",
       "      <th>Relative Humidity</th>\n",
       "      <th>Solar Zenith Angle</th>\n",
       "      <th>Precipitable Water</th>\n",
       "      <th>Wind Direction</th>\n",
       "      <th>Wind Speed</th>\n",
       "    </tr>\n",
       "  </thead>\n",
       "  <tbody>\n",
       "    <tr>\n",
       "      <th>0</th>\n",
       "      <td>2009</td>\n",
       "      <td>1</td>\n",
       "      <td>1</td>\n",
       "      <td>0</td>\n",
       "      <td>0</td>\n",
       "      <td>0</td>\n",
       "      <td>0.0</td>\n",
       "      <td>5.0</td>\n",
       "      <td>1010</td>\n",
       "      <td>75.34</td>\n",
       "      <td>106.15</td>\n",
       "      <td>0.499</td>\n",
       "      <td>346.1</td>\n",
       "      <td>3.1</td>\n",
       "    </tr>\n",
       "    <tr>\n",
       "      <th>1</th>\n",
       "      <td>2009</td>\n",
       "      <td>1</td>\n",
       "      <td>1</td>\n",
       "      <td>0</td>\n",
       "      <td>30</td>\n",
       "      <td>0</td>\n",
       "      <td>1.0</td>\n",
       "      <td>5.0</td>\n",
       "      <td>1010</td>\n",
       "      <td>80.81</td>\n",
       "      <td>112.28</td>\n",
       "      <td>0.490</td>\n",
       "      <td>346.1</td>\n",
       "      <td>3.1</td>\n",
       "    </tr>\n",
       "    <tr>\n",
       "      <th>2</th>\n",
       "      <td>2009</td>\n",
       "      <td>1</td>\n",
       "      <td>1</td>\n",
       "      <td>1</td>\n",
       "      <td>0</td>\n",
       "      <td>4</td>\n",
       "      <td>0.0</td>\n",
       "      <td>5.0</td>\n",
       "      <td>1010</td>\n",
       "      <td>78.27</td>\n",
       "      <td>118.50</td>\n",
       "      <td>0.482</td>\n",
       "      <td>347.9</td>\n",
       "      <td>3.2</td>\n",
       "    </tr>\n",
       "    <tr>\n",
       "      <th>3</th>\n",
       "      <td>2009</td>\n",
       "      <td>1</td>\n",
       "      <td>1</td>\n",
       "      <td>1</td>\n",
       "      <td>30</td>\n",
       "      <td>4</td>\n",
       "      <td>0.0</td>\n",
       "      <td>4.0</td>\n",
       "      <td>1010</td>\n",
       "      <td>78.27</td>\n",
       "      <td>124.78</td>\n",
       "      <td>0.478</td>\n",
       "      <td>347.9</td>\n",
       "      <td>3.1</td>\n",
       "    </tr>\n",
       "    <tr>\n",
       "      <th>4</th>\n",
       "      <td>2009</td>\n",
       "      <td>1</td>\n",
       "      <td>1</td>\n",
       "      <td>2</td>\n",
       "      <td>0</td>\n",
       "      <td>4</td>\n",
       "      <td>0.0</td>\n",
       "      <td>4.0</td>\n",
       "      <td>1010</td>\n",
       "      <td>76.45</td>\n",
       "      <td>131.12</td>\n",
       "      <td>0.475</td>\n",
       "      <td>350.0</td>\n",
       "      <td>3.0</td>\n",
       "    </tr>\n",
       "  </tbody>\n",
       "</table>\n",
       "</div>"
      ],
      "text/plain": [
       "   Year  Month  Day  Hour  Minute  Cloud Type  Dew Point  Temperature  \\\n",
       "0  2009      1    1     0       0           0        0.0          5.0   \n",
       "1  2009      1    1     0      30           0        1.0          5.0   \n",
       "2  2009      1    1     1       0           4        0.0          5.0   \n",
       "3  2009      1    1     1      30           4        0.0          4.0   \n",
       "4  2009      1    1     2       0           4        0.0          4.0   \n",
       "\n",
       "   Pressure  Relative Humidity  Solar Zenith Angle  Precipitable Water  \\\n",
       "0      1010              75.34              106.15               0.499   \n",
       "1      1010              80.81              112.28               0.490   \n",
       "2      1010              78.27              118.50               0.482   \n",
       "3      1010              78.27              124.78               0.478   \n",
       "4      1010              76.45              131.12               0.475   \n",
       "\n",
       "   Wind Direction  Wind Speed  \n",
       "0           346.1         3.1  \n",
       "1           346.1         3.1  \n",
       "2           347.9         3.2  \n",
       "3           347.9         3.1  \n",
       "4           350.0         3.0  "
      ]
     },
     "execution_count": 54,
     "metadata": {},
     "output_type": "execute_result"
    }
   ],
   "source": [
    "X.head()"
   ]
  },
  {
   "cell_type": "markdown",
   "id": "e6bb65c7",
   "metadata": {
    "scrolled": false
   },
   "source": [
    "# Model preparation"
   ]
  },
  {
   "cell_type": "code",
   "execution_count": 55,
   "id": "05c18a00",
   "metadata": {},
   "outputs": [],
   "source": [
    "from sklearn.model_selection import train_test_split\n",
    "from sklearn.linear_model import LinearRegression\n",
    "X_train, X_test, Y1_train, Y1_test = train_test_split( X, Y1, test_size=0.3, random_state=0)\n",
    "X_train, X_test, Y2_train, Y2_test = train_test_split( X, Y2, test_size=0.3, random_state=0)\n",
    "X_train, X_test, Y3_train, Y3_test = train_test_split( X, Y3, test_size=0.3, random_state=0)"
   ]
  },
  {
   "cell_type": "code",
   "execution_count": 56,
   "id": "9c9f6d60",
   "metadata": {},
   "outputs": [],
   "source": [
    "# we here considered a single input  training data and 3 output variable datasets for predicting the values of\n",
    "# 'Clearsky DHI', 'Clearsky DNI', 'Clearsky GHI' \n",
    "# even for predicting the best fit model for the data \n",
    "# we tried of 4 models like XGBRegressor,RandomForestRegressor,LGBMRegressor,LinearRegressions"
   ]
  },
  {
   "cell_type": "code",
   "execution_count": 60,
   "id": "e065f29d",
   "metadata": {},
   "outputs": [
    {
     "name": "stdout",
     "output_type": "stream",
     "text": [
      "Requirement already satisfied: xgboost in c:\\users\\kalyani\\anaconda3\\lib\\site-packages (1.6.1)Note: you may need to restart the kernel to use updated packages.\n",
      "Requirement already satisfied: scipy in c:\\users\\kalyani\\anaconda3\\lib\\site-packages (from xgboost) (1.7.1)\n",
      "Requirement already satisfied: numpy in c:\\users\\kalyani\\anaconda3\\lib\\site-packages (from xgboost) (1.20.3)\n",
      "\n"
     ]
    }
   ],
   "source": [
    "pip install xgboost"
   ]
  },
  {
   "cell_type": "code",
   "execution_count": 59,
   "id": "a23b053f",
   "metadata": {},
   "outputs": [],
   "source": [
    "from xgboost import XGBRegressor\n",
    "from sklearn.ensemble import RandomForestRegressor\n",
    "from lightgbm import LGBMRegressor\n",
    "from sklearn.metrics import mean_squared_error"
   ]
  },
  {
   "cell_type": "code",
   "execution_count": 57,
   "id": "5e9492e5",
   "metadata": {},
   "outputs": [],
   "source": [
    "# the function is defined to calculate the evaluation metrics mean square error  and regression score of a model\n",
    "def model_eval(model,X_train,X_test,y_train,y_test):\n",
    "    model.fit(X_train,y_train)\n",
    "    y_pred = model.predict(X_test)\n",
    "    mse = mean_squared_error(y_test,y_pred)\n",
    "    return mse,model.score(X_train,y_train)"
   ]
  },
  {
   "cell_type": "code",
   "execution_count": 58,
   "id": "b419d235",
   "metadata": {},
   "outputs": [],
   "source": [
    "def test_params(**params):\n",
    "    model = XGBRegressor(n_jobs = -1, random_state = 12, **params)\n",
    "    print(\"            Mean Square Error  Regression Score\")\n",
    "    print()\n",
    "    print(\"DHI_MSE :\",model_eval(model,X_train,X_test,Y1_train,Y1_test))\n",
    "    print(\"DNI_MSE :\",model_eval(model,X_train,X_test,Y2_train,Y2_test))\n",
    "    print(\"GHI_MSE :\",model_eval(model,X_train,X_test,Y2_train,Y2_test))"
   ]
  },
  {
   "cell_type": "code",
   "execution_count": 61,
   "id": "484f987c",
   "metadata": {},
   "outputs": [
    {
     "name": "stdout",
     "output_type": "stream",
     "text": [
      "            Mean Square Error  Regression Score\n",
      "\n",
      "DHI_MSE : (123.26647603964905, 0.9771954289800956)\n",
      "DNI_MSE : (854.3272825771749, 0.9953326425496862)\n",
      "GHI_MSE : (854.3272825771749, 0.9953326425496862)\n"
     ]
    }
   ],
   "source": [
    "test_params()"
   ]
  },
  {
   "cell_type": "code",
   "execution_count": 62,
   "id": "a88614f1",
   "metadata": {},
   "outputs": [],
   "source": [
    "def test_params(**params):\n",
    "    model = RandomForestRegressor(n_jobs = -1, random_state = 12, **params)\n",
    "    print(\"            Mean Square Error  Regression Score\")\n",
    "    print()\n",
    "    print(\"DHI_MSE :\",model_eval(model,X_train,X_test,Y1_train,Y1_test))\n",
    "    print(\"DNI_MSE :\",model_eval(model,X_train,X_test,Y2_train,Y2_test))\n",
    "    print(\"GHI_MSE :\",model_eval(model,X_train,X_test,Y3_train,Y3_test))"
   ]
  },
  {
   "cell_type": "code",
   "execution_count": 63,
   "id": "1fb44847",
   "metadata": {},
   "outputs": [
    {
     "name": "stdout",
     "output_type": "stream",
     "text": [
      "            Mean Square Error  Regression Score\n",
      "\n",
      "DHI_MSE : (99.5630942070948, 0.9965099870761348)\n",
      "DNI_MSE : (976.6959897202491, 0.999022735223253)\n",
      "GHI_MSE : (35.96605958714354, 0.9999541341265398)\n"
     ]
    }
   ],
   "source": [
    "test_params()"
   ]
  },
  {
   "cell_type": "code",
   "execution_count": 64,
   "id": "02a12677",
   "metadata": {},
   "outputs": [],
   "source": [
    "def test_params(**params):\n",
    "    model = LGBMRegressor(n_jobs = -1, random_state = 12, **params)\n",
    "    print(\"            Mean Square Error  Regression Score\")\n",
    "    print()\n",
    "    print(\"DHI_MSE :\",model_eval(model,X_train,X_test,Y1_train,Y1_test))\n",
    "    print(\"DNI_MSE :\",model_eval(model,X_train,X_test,Y2_train,Y2_test))\n",
    "    print(\"GHI_MSE :\",model_eval(model,X_train,X_test,Y3_train,Y3_test))"
   ]
  },
  {
   "cell_type": "code",
   "execution_count": 65,
   "id": "33bc9891",
   "metadata": {},
   "outputs": [
    {
     "name": "stdout",
     "output_type": "stream",
     "text": [
      "            Mean Square Error  Regression Score\n",
      "\n",
      "DHI_MSE : (141.52994932136102, 0.9681068503882009)\n",
      "DNI_MSE : (958.4032435161257, 0.9937108457350057)\n",
      "GHI_MSE : (34.08543568200253, 0.9997143562813716)\n"
     ]
    }
   ],
   "source": [
    "test_params()"
   ]
  },
  {
   "cell_type": "code",
   "execution_count": 66,
   "id": "39de55f4",
   "metadata": {},
   "outputs": [],
   "source": [
    "def test_params(**params):\n",
    "    model = LinearRegression(n_jobs = -1, **params)\n",
    "    print(\"DHI_MSE :\",model_eval(model,X_train,X_test,Y1_train,Y1_test))\n",
    "    print(\"DNI_MSE :\",model_eval(model,X_train,X_test,Y2_train,Y2_test))\n",
    "    print(\"GHI_MSE :\",model_eval(model,X_train,X_test,Y3_train,Y3_test))"
   ]
  },
  {
   "cell_type": "code",
   "execution_count": 67,
   "id": "71c86ba4",
   "metadata": {},
   "outputs": [
    {
     "name": "stdout",
     "output_type": "stream",
     "text": [
      "DHI_MSE : (797.823662584163, 0.8011873495640094)\n",
      "DNI_MSE : (19910.13752664646, 0.8585473896809314)\n",
      "GHI_MSE : (17815.826737161646, 0.8343661037259866)\n"
     ]
    }
   ],
   "source": [
    "test_params()"
   ]
  },
  {
   "cell_type": "code",
   "execution_count": 68,
   "id": "2ad09e06",
   "metadata": {},
   "outputs": [],
   "source": [
    "df_test = pd.read_csv('test.csv')"
   ]
  },
  {
   "cell_type": "code",
   "execution_count": 69,
   "id": "686913a4",
   "metadata": {},
   "outputs": [
    {
     "data": {
      "text/html": [
       "<div>\n",
       "<style scoped>\n",
       "    .dataframe tbody tr th:only-of-type {\n",
       "        vertical-align: middle;\n",
       "    }\n",
       "\n",
       "    .dataframe tbody tr th {\n",
       "        vertical-align: top;\n",
       "    }\n",
       "\n",
       "    .dataframe thead th {\n",
       "        text-align: right;\n",
       "    }\n",
       "</style>\n",
       "<table border=\"1\" class=\"dataframe\">\n",
       "  <thead>\n",
       "    <tr style=\"text-align: right;\">\n",
       "      <th></th>\n",
       "      <th>Year</th>\n",
       "      <th>Month</th>\n",
       "      <th>Day</th>\n",
       "      <th>Hour</th>\n",
       "      <th>Minute</th>\n",
       "      <th>Cloud Type</th>\n",
       "      <th>Dew Point</th>\n",
       "      <th>Temperature</th>\n",
       "      <th>Pressure</th>\n",
       "      <th>Relative Humidity</th>\n",
       "      <th>Solar Zenith Angle</th>\n",
       "      <th>Precipitable Water</th>\n",
       "      <th>Wind Direction</th>\n",
       "      <th>Wind Speed</th>\n",
       "      <th>Fill Flag</th>\n",
       "      <th>Clearsky DHI</th>\n",
       "      <th>Clearsky DNI</th>\n",
       "      <th>Clearsky GHI</th>\n",
       "    </tr>\n",
       "  </thead>\n",
       "  <tbody>\n",
       "    <tr>\n",
       "      <th>0</th>\n",
       "      <td>2019</td>\n",
       "      <td>1</td>\n",
       "      <td>1</td>\n",
       "      <td>0</td>\n",
       "      <td>0</td>\n",
       "      <td>7</td>\n",
       "      <td>18.4</td>\n",
       "      <td>18.8</td>\n",
       "      <td>1008</td>\n",
       "      <td>97.70</td>\n",
       "      <td>106.23</td>\n",
       "      <td>3.5</td>\n",
       "      <td>190</td>\n",
       "      <td>2.3</td>\n",
       "      <td>0</td>\n",
       "      <td>NaN</td>\n",
       "      <td>NaN</td>\n",
       "      <td>NaN</td>\n",
       "    </tr>\n",
       "    <tr>\n",
       "      <th>1</th>\n",
       "      <td>2019</td>\n",
       "      <td>1</td>\n",
       "      <td>1</td>\n",
       "      <td>0</td>\n",
       "      <td>30</td>\n",
       "      <td>3</td>\n",
       "      <td>18.4</td>\n",
       "      <td>18.6</td>\n",
       "      <td>1008</td>\n",
       "      <td>98.92</td>\n",
       "      <td>112.36</td>\n",
       "      <td>3.5</td>\n",
       "      <td>187</td>\n",
       "      <td>2.5</td>\n",
       "      <td>0</td>\n",
       "      <td>NaN</td>\n",
       "      <td>NaN</td>\n",
       "      <td>NaN</td>\n",
       "    </tr>\n",
       "    <tr>\n",
       "      <th>2</th>\n",
       "      <td>2019</td>\n",
       "      <td>1</td>\n",
       "      <td>1</td>\n",
       "      <td>1</td>\n",
       "      <td>0</td>\n",
       "      <td>3</td>\n",
       "      <td>18.2</td>\n",
       "      <td>18.5</td>\n",
       "      <td>1008</td>\n",
       "      <td>98.35</td>\n",
       "      <td>118.58</td>\n",
       "      <td>3.5</td>\n",
       "      <td>184</td>\n",
       "      <td>2.8</td>\n",
       "      <td>0</td>\n",
       "      <td>NaN</td>\n",
       "      <td>NaN</td>\n",
       "      <td>NaN</td>\n",
       "    </tr>\n",
       "    <tr>\n",
       "      <th>3</th>\n",
       "      <td>2019</td>\n",
       "      <td>1</td>\n",
       "      <td>1</td>\n",
       "      <td>1</td>\n",
       "      <td>30</td>\n",
       "      <td>3</td>\n",
       "      <td>18.2</td>\n",
       "      <td>18.3</td>\n",
       "      <td>1008</td>\n",
       "      <td>99.58</td>\n",
       "      <td>124.86</td>\n",
       "      <td>3.5</td>\n",
       "      <td>185</td>\n",
       "      <td>3.0</td>\n",
       "      <td>0</td>\n",
       "      <td>NaN</td>\n",
       "      <td>NaN</td>\n",
       "      <td>NaN</td>\n",
       "    </tr>\n",
       "    <tr>\n",
       "      <th>4</th>\n",
       "      <td>2019</td>\n",
       "      <td>1</td>\n",
       "      <td>1</td>\n",
       "      <td>2</td>\n",
       "      <td>0</td>\n",
       "      <td>0</td>\n",
       "      <td>18.0</td>\n",
       "      <td>18.0</td>\n",
       "      <td>1008</td>\n",
       "      <td>99.71</td>\n",
       "      <td>131.20</td>\n",
       "      <td>3.6</td>\n",
       "      <td>186</td>\n",
       "      <td>3.1</td>\n",
       "      <td>0</td>\n",
       "      <td>NaN</td>\n",
       "      <td>NaN</td>\n",
       "      <td>NaN</td>\n",
       "    </tr>\n",
       "  </tbody>\n",
       "</table>\n",
       "</div>"
      ],
      "text/plain": [
       "   Year  Month  Day  Hour  Minute  Cloud Type  Dew Point  Temperature  \\\n",
       "0  2019      1    1     0       0           7       18.4         18.8   \n",
       "1  2019      1    1     0      30           3       18.4         18.6   \n",
       "2  2019      1    1     1       0           3       18.2         18.5   \n",
       "3  2019      1    1     1      30           3       18.2         18.3   \n",
       "4  2019      1    1     2       0           0       18.0         18.0   \n",
       "\n",
       "   Pressure  Relative Humidity  Solar Zenith Angle  Precipitable Water  \\\n",
       "0      1008              97.70              106.23                 3.5   \n",
       "1      1008              98.92              112.36                 3.5   \n",
       "2      1008              98.35              118.58                 3.5   \n",
       "3      1008              99.58              124.86                 3.5   \n",
       "4      1008              99.71              131.20                 3.6   \n",
       "\n",
       "   Wind Direction  Wind Speed  Fill Flag  Clearsky DHI  Clearsky DNI  \\\n",
       "0             190         2.3          0           NaN           NaN   \n",
       "1             187         2.5          0           NaN           NaN   \n",
       "2             184         2.8          0           NaN           NaN   \n",
       "3             185         3.0          0           NaN           NaN   \n",
       "4             186         3.1          0           NaN           NaN   \n",
       "\n",
       "   Clearsky GHI  \n",
       "0           NaN  \n",
       "1           NaN  \n",
       "2           NaN  \n",
       "3           NaN  \n",
       "4           NaN  "
      ]
     },
     "execution_count": 69,
     "metadata": {},
     "output_type": "execute_result"
    }
   ],
   "source": [
    "df_test.head()"
   ]
  },
  {
   "cell_type": "code",
   "execution_count": 70,
   "id": "c0aca454",
   "metadata": {},
   "outputs": [],
   "source": [
    "df_test.drop(columns=['Clearsky DHI', 'Clearsky DNI', 'Clearsky GHI'],axis = 1, inplace = True)"
   ]
  },
  {
   "cell_type": "code",
   "execution_count": 71,
   "id": "caf746b0",
   "metadata": {},
   "outputs": [],
   "source": [
    "df_test.drop(columns=['Fill Flag'],axis = 1, inplace = True)"
   ]
  },
  {
   "cell_type": "code",
   "execution_count": 72,
   "id": "94946c9d",
   "metadata": {},
   "outputs": [
    {
     "data": {
      "text/plain": [
       "RandomForestRegressor(max_depth=10, n_estimators=4000, n_jobs=-1,\n",
       "                      random_state=42)"
      ]
     },
     "execution_count": 72,
     "metadata": {},
     "output_type": "execute_result"
    }
   ],
   "source": [
    "model1 = RandomForestRegressor(n_jobs = -1, random_state = 42, n_estimators=4000,max_depth=10)\n",
    "model1.fit(X_train,Y1_train)\n",
    "model2 = RandomForestRegressor(n_jobs = -1, random_state = 42, n_estimators=4000, max_depth=10)\n",
    "model2.fit(X_train,Y2_train)\n",
    "model3 = RandomForestRegressor(n_jobs = -1, random_state = 42, n_estimators=4000, max_depth=10)\n",
    "model3.fit(X_train,Y3_train)"
   ]
  },
  {
   "cell_type": "code",
   "execution_count": 73,
   "id": "350e40ae",
   "metadata": {},
   "outputs": [],
   "source": [
    "from sklearn.preprocessing import MinMaxScaler\n",
    "scalar = MinMaxScaler()"
   ]
  },
  {
   "cell_type": "code",
   "execution_count": 74,
   "id": "1e27a050",
   "metadata": {},
   "outputs": [],
   "source": [
    "def predict(model, new_input):\n",
    "    input_df = pd.DataFrame(new_input)\n",
    "    input_cols = input_df.columns.tolist()\n",
    "    input_df[input_cols] = scalar.fit_transform(input_df [input_cols])\n",
    "    return model.predict(input_df)"
   ]
  },
  {
   "cell_type": "code",
   "execution_count": 75,
   "id": "4b4f4807",
   "metadata": {},
   "outputs": [],
   "source": [
    "pred_dhi = predict(model1, df_test)"
   ]
  },
  {
   "cell_type": "code",
   "execution_count": 76,
   "id": "5013c5bd",
   "metadata": {},
   "outputs": [
    {
     "data": {
      "text/plain": [
       "array([133.16186506, 118.36542314, 118.36542314, ..., 118.07639061,\n",
       "       118.07639061, 118.07639061])"
      ]
     },
     "execution_count": 76,
     "metadata": {},
     "output_type": "execute_result"
    }
   ],
   "source": [
    "pred_dhi"
   ]
  },
  {
   "cell_type": "code",
   "execution_count": 77,
   "id": "f5b53d56",
   "metadata": {},
   "outputs": [],
   "source": [
    "pred_dni = predict(model2, df_test)"
   ]
  },
  {
   "cell_type": "code",
   "execution_count": 78,
   "id": "8b972ca6",
   "metadata": {},
   "outputs": [],
   "source": [
    "pred_ghi = predict(model3, df_test)"
   ]
  },
  {
   "cell_type": "code",
   "execution_count": 79,
   "id": "23677820",
   "metadata": {},
   "outputs": [],
   "source": [
    "pred_df = pd.DataFrame()"
   ]
  },
  {
   "cell_type": "code",
   "execution_count": 80,
   "id": "35e42d87",
   "metadata": {},
   "outputs": [],
   "source": [
    "pred_df['Clearsky DHI'] = pred_dhi\n",
    "pred_df['Clearsky DNI'] = pred_dni\n",
    "pred_df['Clearsky GHI'] = pred_ghi"
   ]
  },
  {
   "cell_type": "code",
   "execution_count": 81,
   "id": "6852706b",
   "metadata": {},
   "outputs": [
    {
     "data": {
      "text/html": [
       "<div>\n",
       "<style scoped>\n",
       "    .dataframe tbody tr th:only-of-type {\n",
       "        vertical-align: middle;\n",
       "    }\n",
       "\n",
       "    .dataframe tbody tr th {\n",
       "        vertical-align: top;\n",
       "    }\n",
       "\n",
       "    .dataframe thead th {\n",
       "        text-align: right;\n",
       "    }\n",
       "</style>\n",
       "<table border=\"1\" class=\"dataframe\">\n",
       "  <thead>\n",
       "    <tr style=\"text-align: right;\">\n",
       "      <th></th>\n",
       "      <th>Clearsky DHI</th>\n",
       "      <th>Clearsky DNI</th>\n",
       "      <th>Clearsky GHI</th>\n",
       "    </tr>\n",
       "  </thead>\n",
       "  <tbody>\n",
       "    <tr>\n",
       "      <th>0</th>\n",
       "      <td>133.161865</td>\n",
       "      <td>861.318084</td>\n",
       "      <td>1049.607762</td>\n",
       "    </tr>\n",
       "    <tr>\n",
       "      <th>1</th>\n",
       "      <td>118.365423</td>\n",
       "      <td>861.318084</td>\n",
       "      <td>1049.607762</td>\n",
       "    </tr>\n",
       "    <tr>\n",
       "      <th>2</th>\n",
       "      <td>118.365423</td>\n",
       "      <td>861.318084</td>\n",
       "      <td>1049.607762</td>\n",
       "    </tr>\n",
       "    <tr>\n",
       "      <th>3</th>\n",
       "      <td>118.363923</td>\n",
       "      <td>861.318084</td>\n",
       "      <td>1049.607762</td>\n",
       "    </tr>\n",
       "    <tr>\n",
       "      <th>4</th>\n",
       "      <td>118.365266</td>\n",
       "      <td>861.268005</td>\n",
       "      <td>1049.607762</td>\n",
       "    </tr>\n",
       "    <tr>\n",
       "      <th>...</th>\n",
       "      <td>...</td>\n",
       "      <td>...</td>\n",
       "      <td>...</td>\n",
       "    </tr>\n",
       "    <tr>\n",
       "      <th>17515</th>\n",
       "      <td>118.076391</td>\n",
       "      <td>864.694537</td>\n",
       "      <td>1049.607762</td>\n",
       "    </tr>\n",
       "    <tr>\n",
       "      <th>17516</th>\n",
       "      <td>118.076391</td>\n",
       "      <td>864.694537</td>\n",
       "      <td>1049.607762</td>\n",
       "    </tr>\n",
       "    <tr>\n",
       "      <th>17517</th>\n",
       "      <td>118.076391</td>\n",
       "      <td>864.694537</td>\n",
       "      <td>1049.607762</td>\n",
       "    </tr>\n",
       "    <tr>\n",
       "      <th>17518</th>\n",
       "      <td>118.076391</td>\n",
       "      <td>864.694537</td>\n",
       "      <td>1049.607762</td>\n",
       "    </tr>\n",
       "    <tr>\n",
       "      <th>17519</th>\n",
       "      <td>118.076391</td>\n",
       "      <td>864.694537</td>\n",
       "      <td>1049.607762</td>\n",
       "    </tr>\n",
       "  </tbody>\n",
       "</table>\n",
       "<p>17520 rows × 3 columns</p>\n",
       "</div>"
      ],
      "text/plain": [
       "       Clearsky DHI  Clearsky DNI  Clearsky GHI\n",
       "0        133.161865    861.318084   1049.607762\n",
       "1        118.365423    861.318084   1049.607762\n",
       "2        118.365423    861.318084   1049.607762\n",
       "3        118.363923    861.318084   1049.607762\n",
       "4        118.365266    861.268005   1049.607762\n",
       "...             ...           ...           ...\n",
       "17515    118.076391    864.694537   1049.607762\n",
       "17516    118.076391    864.694537   1049.607762\n",
       "17517    118.076391    864.694537   1049.607762\n",
       "17518    118.076391    864.694537   1049.607762\n",
       "17519    118.076391    864.694537   1049.607762\n",
       "\n",
       "[17520 rows x 3 columns]"
      ]
     },
     "execution_count": 81,
     "metadata": {},
     "output_type": "execute_result"
    }
   ],
   "source": [
    "pred_df"
   ]
  },
  {
   "cell_type": "code",
   "execution_count": 82,
   "id": "13cfcd67",
   "metadata": {},
   "outputs": [
    {
     "data": {
      "text/plain": [
       "0      85612\n",
       "88       747\n",
       "90       730\n",
       "86       719\n",
       "84       711\n",
       "       ...  \n",
       "253       15\n",
       "249       15\n",
       "255       13\n",
       "257       10\n",
       "1         10\n",
       "Name: Clearsky DHI, Length: 258, dtype: int64"
      ]
     },
     "execution_count": 82,
     "metadata": {},
     "output_type": "execute_result"
    }
   ],
   "source": [
    "df_train['Clearsky DHI'].value_counts()"
   ]
  },
  {
   "cell_type": "code",
   "execution_count": 119,
   "id": "b0c1d747",
   "metadata": {},
   "outputs": [],
   "source": [
    "def mse(y_test, y_pred):\n",
    "    mse = mean_squared_error(y_test,y_pred)\n",
    "    return mse"
   ]
  },
  {
   "cell_type": "code",
   "execution_count": 84,
   "id": "c598d15e",
   "metadata": {},
   "outputs": [],
   "source": [
    "\n",
    "new_input = {\n",
    "    'Year':[2010],\n",
    "    'Month':[2],\n",
    "    'Day':[14],\n",
    "    'Hour':[17],\n",
    "    'Minute':[30],\n",
    "    'Cloud Type':[0],\n",
    "    'Dew Point':[4.0],\n",
    "    'Temperature':[10.0],\n",
    "    'Pressure':[1000],\n",
    "    'Relative Humidity':[67.25],\n",
    "    'Solar Zenith Angle':[44.97],\n",
    "    'Precipitable Water':[1.053],\n",
    "    'Wind Direction':[246.7],\n",
    "    'Wind Speed':[2.8],\n",
    "    \n",
    "}"
   ]
  },
  {
   "cell_type": "code",
   "execution_count": 85,
   "id": "ba78f766",
   "metadata": {},
   "outputs": [
    {
     "data": {
      "text/plain": [
       "Year                      2010\n",
       "Month                        2\n",
       "Day                         14\n",
       "Hour                        17\n",
       "Minute                      30\n",
       "Clearsky DHI               115\n",
       "Clearsky DNI               913\n",
       "Clearsky GHI               761\n",
       "Cloud Type                   0\n",
       "Dew Point                  4.0\n",
       "Temperature               10.0\n",
       "Pressure                  1000\n",
       "Relative Humidity        67.25\n",
       "Solar Zenith Angle       44.97\n",
       "Precipitable Water       1.053\n",
       "Wind Direction           246.7\n",
       "Wind Speed                 2.8\n",
       "temp                  [-9, 10]\n",
       "Season                  Winter\n",
       "Name: 19667, dtype: object"
      ]
     },
     "execution_count": 85,
     "metadata": {},
     "output_type": "execute_result"
    }
   ],
   "source": [
    "df_train.iloc[17515]"
   ]
  },
  {
   "cell_type": "code",
   "execution_count": 86,
   "id": "6dccc9e6",
   "metadata": {},
   "outputs": [],
   "source": [
    "def predict(model, new_input):\n",
    "    input_df = pd.DataFrame(new_input)\n",
    "    input_cols = input_df.columns.tolist()\n",
    "    input_df[input_cols] = scalar.fit_transform(input_df [input_cols])\n",
    "    return model.predict(input_df)"
   ]
  },
  {
   "cell_type": "code",
   "execution_count": 87,
   "id": "0d066e11",
   "metadata": {},
   "outputs": [
    {
     "name": "stdout",
     "output_type": "stream",
     "text": [
      "DHI =  [118.07639061]\n",
      "DNI =  [864.69453687]\n",
      "GHI =  [1049.60776238]\n"
     ]
    }
   ],
   "source": [
    "print(\"DHI = \",predict(model1,new_input)) #  Actual = 115\n",
    "print(\"DNI = \",predict(model2,new_input)) # \n",
    "Actual = 913\n",
    "print(\"GHI = \",predict(model3,new_input)) # Actual = 761"
   ]
  },
  {
   "cell_type": "code",
   "execution_count": 88,
   "id": "654b3e5b",
   "metadata": {},
   "outputs": [
    {
     "name": "stdout",
     "output_type": "stream",
     "text": [
      "max error value : 256\n",
      "mean absolute error value : 65.57325732573257\n",
      "r2 score : -0.9690122518428732\n"
     ]
    }
   ],
   "source": [
    "from sklearn.metrics import max_error, mean_absolute_error, mean_squared_error, r2_score\n",
    "print('max error value :',max_error(Y1_test[1:10000],Y1_train[1:10000]))\n",
    "print('mean absolute error value :',mean_absolute_error(Y1_test[1:10000],Y1_train[1:10000]))\n",
    "print(\"r2 score :\" ,r2_score(Y1_test[1:10000],Y1_train[1:10000]))"
   ]
  },
  {
   "cell_type": "code",
   "execution_count": 89,
   "id": "35605bf0",
   "metadata": {},
   "outputs": [
    {
     "name": "stdout",
     "output_type": "stream",
     "text": [
      "max error value : 1016\n",
      "mean absolute error value : 387.8523852385239\n",
      "r2 score : -0.9703724390031891\n"
     ]
    }
   ],
   "source": [
    "from sklearn.metrics import max_error, mean_absolute_error, mean_squared_error, r2_score\n",
    "print('max error value :',max_error(Y2_test[1:10000],Y2_train[1:10000]))\n",
    "print('mean absolute error value :',mean_absolute_error(Y2_test[1:10000],Y2_train[1:10000]))\n",
    "print(\"r2 score :\" ,r2_score(Y2_test[1:10000],Y2_train[1:10000]))"
   ]
  },
  {
   "cell_type": "code",
   "execution_count": 90,
   "id": "f0823681",
   "metadata": {},
   "outputs": [
    {
     "name": "stdout",
     "output_type": "stream",
     "text": [
      "max error value : 1055\n",
      "mean absolute error value : 335.3343334333433\n",
      "r2 score : -0.9695220683366665\n"
     ]
    }
   ],
   "source": [
    "from sklearn.metrics import max_error, mean_absolute_error, mean_squared_error, r2_score\n",
    "print('max error value :',max_error(Y3_test[1:10000],Y3_train[1:10000]))\n",
    "print('mean absolute error value :',mean_absolute_error(Y3_test[1:10000],Y3_train[1:10000]))\n",
    "print(\"r2 score :\" ,r2_score(Y3_test[1:10000],Y3_train[1:10000]))"
   ]
  },
  {
   "cell_type": "markdown",
   "id": "da37ddd1",
   "metadata": {},
   "source": [
    "# Business Recommendations"
   ]
  },
  {
   "cell_type": "markdown",
   "id": "cd5300c6",
   "metadata": {},
   "source": [
    "#### As Solar Zenith angle is the angle between the Sun's rays and the vertical direction.\n",
    "#### From the graph we infer that the solar zenith angle is higher in winter so if we make that correct \n",
    "#### angle corresponding to the season then we can achieve higher optimization of solar energy "
   ]
  },
  {
   "cell_type": "code",
   "execution_count": 104,
   "id": "d44600c4",
   "metadata": {},
   "outputs": [
    {
     "data": {
      "text/plain": [
       "<AxesSubplot:xlabel='Season', ylabel='Solar Zenith Angle'>"
      ]
     },
     "execution_count": 104,
     "metadata": {},
     "output_type": "execute_result"
    },
    {
     "data": {
      "image/png": "[encoded data removed]",
      "text/plain": [
       "<Figure size 432x288 with 1 Axes>"
      ]
     },
     "metadata": {
      "needs_background": "light"
     },
     "output_type": "display_data"
    }
   ],
   "source": [
    "sns.barplot('Season','Solar Zenith Angle',data = df_train)"
   ]
  },
  {
   "cell_type": "code",
   "execution_count": 111,
   "id": "7ae924ca",
   "metadata": {},
   "outputs": [
    {
     "data": {
      "image/jpeg": "[encoded data removed]",
      "text/plain": [
       "<IPython.core.display.Image object>"
      ]
     },
     "execution_count": 111,
     "metadata": {
      "image/jpeg": {
       "height": 200,
       "width": 800
      }
     },
     "output_type": "execute_result"
    }
   ],
   "source": [
    "from IPython.display import Image\n",
    "Image(filename='panel.jpg',width=800, height=200)"
   ]
  },
  {
   "cell_type": "code",
   "execution_count": 114,
   "id": "eb0e3c1b",
   "metadata": {},
   "outputs": [
    {
     "name": "stderr",
     "output_type": "stream",
     "text": [
      "C:\\Users\\Kalyani\\anaconda3\\lib\\site-packages\\seaborn\\_decorators.py:36: FutureWarning: Pass the following variables as keyword args: x, y. From version 0.12, the only valid positional argument will be `data`, and passing other arguments without an explicit keyword will result in an error or misinterpretation.\n",
      "  warnings.warn(\n"
     ]
    },
    {
     "data": {
      "text/plain": [
       "<AxesSubplot:xlabel='Season', ylabel='Wind Direction'>"
      ]
     },
     "execution_count": 114,
     "metadata": {},
     "output_type": "execute_result"
    },
    {
     "data": {
      "image/png": "[encoded data removed]",
      "text/plain": [
       "<Figure size 432x288 with 1 Axes>"
      ]
     },
     "metadata": {
      "needs_background": "light"
     },
     "output_type": "display_data"
    }
   ],
   "source": [
    "sns.barplot('Season','Wind Direction',data = df_train)"
   ]
  },
  {
   "cell_type": "code",
   "execution_count": 115,
   "id": "6d9f47dd",
   "metadata": {},
   "outputs": [
    {
     "name": "stderr",
     "output_type": "stream",
     "text": [
      "C:\\Users\\Kalyani\\anaconda3\\lib\\site-packages\\seaborn\\_decorators.py:36: FutureWarning: Pass the following variables as keyword args: x, y. From version 0.12, the only valid positional argument will be `data`, and passing other arguments without an explicit keyword will result in an error or misinterpretation.\n",
      "  warnings.warn(\n"
     ]
    },
    {
     "data": {
      "text/plain": [
       "<AxesSubplot:xlabel='Season', ylabel='Pressure'>"
      ]
     },
     "execution_count": 115,
     "metadata": {},
     "output_type": "execute_result"
    },
    {
     "data": {
      "image/png": "[encoded data removed]",
      "text/plain": [
       "<Figure size 432x288 with 1 Axes>"
      ]
     },
     "metadata": {
      "needs_background": "light"
     },
     "output_type": "display_data"
    }
   ],
   "source": [
    "sns.barplot('Season','Pressure',data = df_train)"
   ]
  },
  {
   "cell_type": "code",
   "execution_count": 116,
   "id": "9b169d1c",
   "metadata": {},
   "outputs": [
    {
     "name": "stderr",
     "output_type": "stream",
     "text": [
      "C:\\Users\\Kalyani\\anaconda3\\lib\\site-packages\\seaborn\\_decorators.py:36: FutureWarning: Pass the following variables as keyword args: x, y. From version 0.12, the only valid positional argument will be `data`, and passing other arguments without an explicit keyword will result in an error or misinterpretation.\n",
      "  warnings.warn(\n"
     ]
    },
    {
     "data": {
      "text/plain": [
       "<AxesSubplot:xlabel='Season', ylabel='Wind Speed'>"
      ]
     },
     "execution_count": 116,
     "metadata": {},
     "output_type": "execute_result"
    },
    {
     "data": {
      "image/png": "[encoded data removed]",
      "text/plain": [
       "<Figure size 432x288 with 1 Axes>"
      ]
     },
     "metadata": {
      "needs_background": "light"
     },
     "output_type": "display_data"
    }
   ],
   "source": [
    "sns.barplot('Season','Wind Speed',data = df_train)"
   ]
  },
  {
   "cell_type": "markdown",
   "id": "f9882006",
   "metadata": {},
   "source": [
    "#### from the graph we infer that the wind speed is comparitively higher in winter and spring among all seasons\n",
    "#### so at seasons we need to place the panels in the direction opposite to direction of wind flow"
   ]
  },
  {
   "cell_type": "code",
   "execution_count": null,
   "id": "eb1674d7",
   "metadata": {},
   "outputs": [],
   "source": []
  }
 ],
 "metadata": {
  "kernelspec": {
   "display_name": "Python 3 (ipykernel)",
   "language": "python",
   "name": "python3"
  },
  "language_info": {
   "codemirror_mode": {
    "name": "ipython",
    "version": 3
   },
   "file_extension": ".py",
   "mimetype": "text/x-python",
   "name": "python",
   "nbconvert_exporter": "python",
   "pygments_lexer": "ipython3",
   "version": "3.9.12"
  }
 },
 "nbformat": 4,
 "nbformat_minor": 5
}
